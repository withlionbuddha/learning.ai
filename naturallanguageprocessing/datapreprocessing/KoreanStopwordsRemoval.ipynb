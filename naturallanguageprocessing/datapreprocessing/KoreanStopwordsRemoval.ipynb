{
 "cells": [
  {
   "cell_type": "code",
   "execution_count": null,
   "metadata": {},
   "outputs": [],
   "source": [
    "from StopwordsRemoval import StopwordsRemoval\n",
    "\n",
    "class KoreanStopwordsRemoval(StopwordsRemoval):\n",
    "    def __init__(self, tokens):\n",
    "        super().__init__(tokens)\n",
    "        # 한국어 불용어 목록\n",
    "        self.stopwords = ['은', '는', '이', '가', '를', '에', '의', '을', '도', '으로', '하다', '있다', '되다']\n",
    "\n",
    "    def remove_stopwords(self):\n",
    "        # 한국어 불용어 제거\n",
    "        return [token for token in self.tokens if token not in self.stopwords]\n"
   ]
  }
 ],
 "metadata": {
  "language_info": {
   "name": "python"
  }
 },
 "nbformat": 4,
 "nbformat_minor": 2
}
