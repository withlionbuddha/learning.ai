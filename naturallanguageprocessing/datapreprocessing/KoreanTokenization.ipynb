{
 "cells": [
  {
   "cell_type": "markdown",
   "metadata": {},
   "source": [
    "konlpy.okt는 Java Virtual Machine(JVM) 사용.\n",
    "jpype1는 python에서 java 코드 호출 라이브러리"
   ]
  },
  {
   "cell_type": "code",
   "execution_count": 9,
   "metadata": {},
   "outputs": [],
   "source": [
    "from konlpy.tag import Okt\n",
    "from Tokenization import Tokenization\n",
    "\n",
    "class KoreanTokenization(Tokenization):\n",
    "    def __init__(self, text):\n",
    "        super().__init__(text)\n",
    "        self.okt = Okt()\n",
    "\n",
    "    def tokenize(self):\n",
    "        # 한국어 형태소 기반 토큰화\n",
    "        return self.okt.morphs(self.text)\n",
    "        #return Okt().morphs(self.text)\n"
   ]
  }
 ],
 "metadata": {
  "kernelspec": {
   "display_name": "vir-env.jupyter",
   "language": "python",
   "name": "python3"
  },
  "language_info": {
   "codemirror_mode": {
    "name": "ipython",
    "version": 3
   },
   "file_extension": ".py",
   "mimetype": "text/x-python",
   "name": "python",
   "nbconvert_exporter": "python",
   "pygments_lexer": "ipython3",
   "version": "3.12.6"
  }
 },
 "nbformat": 4,
 "nbformat_minor": 2
}
