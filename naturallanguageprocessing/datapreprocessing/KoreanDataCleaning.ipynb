{
 "cells": [
  {
   "cell_type": "code",
   "execution_count": 1,
   "id": "caf2ec5d-e0c7-4415-9611-840b1dfa86aa",
   "metadata": {},
   "outputs": [
    {
     "ename": "ImportError",
     "evalue": "attempted relative import with no known parent package",
     "output_type": "error",
     "traceback": [
      "\u001b[1;31m---------------------------------------------------------------------------\u001b[0m",
      "\u001b[1;31mImportError\u001b[0m                               Traceback (most recent call last)",
      "Cell \u001b[1;32mIn[1], line 2\u001b[0m\n\u001b[0;32m      1\u001b[0m \u001b[38;5;28;01mimport\u001b[39;00m \u001b[38;5;21;01mre\u001b[39;00m\n\u001b[1;32m----> 2\u001b[0m \u001b[38;5;28;01mfrom\u001b[39;00m \u001b[38;5;21;01m.\u001b[39;00m\u001b[38;5;21;01m.\u001b[39;00m\u001b[38;5;21;01mDataCleaning\u001b[39;00m \u001b[38;5;28;01mimport\u001b[39;00m DataCleaning\n\u001b[0;32m      4\u001b[0m \u001b[38;5;28;01mclass\u001b[39;00m \u001b[38;5;21;01mKoreanDataCleaning\u001b[39;00m(DataCleaning):\n\u001b[0;32m      5\u001b[0m     \u001b[38;5;28;01mdef\u001b[39;00m \u001b[38;5;21mremove_special_characters\u001b[39m(\u001b[38;5;28mself\u001b[39m):\n\u001b[0;32m      6\u001b[0m         \u001b[38;5;66;03m# 한국어 특수 문자 및 숫자 제거\u001b[39;00m\n",
      "\u001b[1;31mImportError\u001b[0m: attempted relative import with no known parent package"
     ]
    }
   ],
   "source": [
    "import re\n",
    "from DataCleaning import DataCleaning\n",
    "\n",
    "class KoreanDataCleaning(DataCleaning):\n",
    "    def remove_special_characters(self):\n",
    "        # 한국어 특수 문자 및 숫자 제거\n",
    "        cleaned_text = re.sub(r\"[^가-힣\\s]\", \"\", self.text)\n",
    "        return cleaned_text\n",
    "\n",
    "    def remove_html_tags(self):\n",
    "        # HTML 태그 제거\n",
    "        cleaned_text = re.sub(r\"<[^>]+>\", \"\", self.text)\n",
    "        return cleaned_text\n",
    "\n",
    "    def to_lowercase(self):\n",
    "        # 한국어는 대소문자 구분 없음, 그대로 반환\n",
    "        return self.text\n",
    "    \n",
    "    def get_text(self):\n",
    "        return self.text\n"
   ]
  },
  {
   "cell_type": "code",
   "execution_count": null,
   "id": "d90e2c2d-3086-40ff-b93d-6ea2d0f15a25",
   "metadata": {},
   "outputs": [],
   "source": []
  }
 ],
 "metadata": {
  "kernelspec": {
   "display_name": "Python 3 (ipykernel)",
   "language": "python",
   "name": "python3"
  },
  "language_info": {
   "codemirror_mode": {
    "name": "ipython",
    "version": 3
   },
   "file_extension": ".py",
   "mimetype": "text/x-python",
   "name": "python",
   "nbconvert_exporter": "python",
   "pygments_lexer": "ipython3",
   "version": "3.12.6"
  }
 },
 "nbformat": 4,
 "nbformat_minor": 5
}
