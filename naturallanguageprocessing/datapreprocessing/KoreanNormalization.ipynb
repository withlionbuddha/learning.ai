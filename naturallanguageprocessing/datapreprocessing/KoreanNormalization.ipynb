{
 "cells": [
  {
   "cell_type": "code",
   "execution_count": 17,
   "metadata": {},
   "outputs": [],
   "source": [
    "from Normalization import Normalization\n",
    "import torch\n",
    "from torch.nn.utils.rnn import pad_sequence"
   ]
  },
  {
   "cell_type": "code",
   "execution_count": 18,
   "metadata": {},
   "outputs": [],
   "source": [
    "class KoreanNormalization(Normalization):\n",
    "    def __init__(self, encoded_data):\n",
    "        super().__init__(encoded_data)\n",
    "\n",
    "    def normalize(self, max_length):\n",
    "        # 패딩을 사용한 한국어 정규화\n",
    "        \n",
    "        # Step 1 시퀀스를 텐서로 변환\n",
    "        tensor_sequences = [torch.tensor(seq, dtype=torch.long) for seq in self.encoded_data]\n",
    "        print(f\" tensor_sequences is {tensor_sequences}\")\n",
    "\n",
    "        for i, tensor in enumerate(tensor_sequences):\n",
    "            print(f\" shape of tensor {i} is {tensor.shape}\")\n",
    "\n",
    "        # step 2 스칼라 텐서를 1D 텐서로 변환\n",
    "        tensor_sequences = [t.unsqueeze(0) for t in tensor_sequences]\n",
    "            \n",
    "        # Step 3 pad_sequence를 사용하여 시퀀스의 길이를 동일하게 맞추고 패딩을 추가\n",
    "        padded_data = pad_sequence(tensor_sequences, batch_first=True, padding_value=0)\n",
    "        print(f\" padded_data is {padded_data}\")\n",
    "        \n",
    "        return padded_data[:, :max_length]  # max_length에 맞춰 길이 자르기\n"
   ]
  }
 ],
 "metadata": {
  "kernelspec": {
   "display_name": "vir-env.jupyter",
   "language": "python",
   "name": "python3"
  },
  "language_info": {
   "codemirror_mode": {
    "name": "ipython",
    "version": 3
   },
   "file_extension": ".py",
   "mimetype": "text/x-python",
   "name": "python",
   "nbconvert_exporter": "python",
   "pygments_lexer": "ipython3",
   "version": "3.12.6"
  }
 },
 "nbformat": 4,
 "nbformat_minor": 2
}
