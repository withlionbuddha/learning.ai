{
 "cells": [
  {
   "cell_type": "code",
   "execution_count": 12,
   "id": "ddbcb4ee-228f-463a-9e3d-3a77f8325c6b",
   "metadata": {},
   "outputs": [],
   "source": [
    "from abc import ABC, abstractmethod\n",
    "\n",
    "class DataCleaning(ABC):\n",
    "    def __init__(self, text):\n",
    "        self.text = text\n",
    "\n",
    "    @abstractmethod\n",
    "    def remove_special_characters(self):\n",
    "        pass\n",
    "\n",
    "    @abstractmethod\n",
    "    def remove_html_tags(self):\n",
    "        pass\n",
    "\n",
    "    @abstractmethod\n",
    "    def to_lowercase(self):\n",
    "        pass\n"
   ]
  },
  {
   "cell_type": "code",
   "execution_count": null,
   "id": "b38568b4-49d5-4035-be86-d0ca53256298",
   "metadata": {},
   "outputs": [],
   "source": []
  }
 ],
 "metadata": {
  "kernelspec": {
   "display_name": "Python 3 (ipykernel)",
   "language": "python",
   "name": "python3"
  },
  "language_info": {
   "codemirror_mode": {
    "name": "ipython",
    "version": 3
   },
   "file_extension": ".py",
   "mimetype": "text/x-python",
   "name": "python",
   "nbconvert_exporter": "python",
   "pygments_lexer": "ipython3",
   "version": "3.12.6"
  }
 },
 "nbformat": 4,
 "nbformat_minor": 5
}
