{
 "cells": [
  {
   "cell_type": "code",
   "execution_count": 1,
   "id": "4bdc72b9-8778-48fe-81f5-a698015afd82",
   "metadata": {},
   "outputs": [
    {
     "ename": "ModuleNotFoundError",
     "evalue": "No module named 'DataCleaning'",
     "output_type": "error",
     "traceback": [
      "\u001b[1;31m---------------------------------------------------------------------------\u001b[0m",
      "\u001b[1;31mModuleNotFoundError\u001b[0m                       Traceback (most recent call last)",
      "Cell \u001b[1;32mIn[1], line 2\u001b[0m\n\u001b[0;32m      1\u001b[0m \u001b[38;5;28;01mimport\u001b[39;00m \u001b[38;5;21;01mre\u001b[39;00m\n\u001b[1;32m----> 2\u001b[0m \u001b[38;5;28;01mfrom\u001b[39;00m \u001b[38;5;21;01mDataCleaning\u001b[39;00m \u001b[38;5;28;01mimport\u001b[39;00m DataCleaning\n\u001b[0;32m      4\u001b[0m \u001b[38;5;28;01mclass\u001b[39;00m \u001b[38;5;21;01mEnglishDataCleaning\u001b[39;00m(DataCleaning):\n\u001b[0;32m      5\u001b[0m     \u001b[38;5;28;01mdef\u001b[39;00m \u001b[38;5;21mremove_special_characters\u001b[39m(\u001b[38;5;28mself\u001b[39m):\n\u001b[0;32m      6\u001b[0m         \u001b[38;5;66;03m# 영어 특수 문자 및 숫자 제거\u001b[39;00m\n",
      "\u001b[1;31mModuleNotFoundError\u001b[0m: No module named 'DataCleaning'"
     ]
    }
   ],
   "source": [
    "import re\n",
    "from DataCleaning import DataCleaning\n",
    "\n",
    "class EnglishDataCleaning(DataCleaning):\n",
    "    def remove_special_characters(self):\n",
    "        # 영어 특수 문자 및 숫자 제거\n",
    "        cleaned_text = re.sub(r\"[^a-zA-Z\\s]\", \"\", self.text)\n",
    "        return cleaned_text\n",
    "\n",
    "    def remove_html_tags(self):\n",
    "        # HTML 태그 제거\n",
    "        cleaned_text = re.sub(r\"<[^>]+>\", \"\", self.text)\n",
    "        return cleaned_text\n",
    "\n",
    "    def to_lowercase(self):\n",
    "        # 영어는 대소문자 통일\n",
    "        return self.text.lower()\n"
   ]
  }
 ],
 "metadata": {
  "kernelspec": {
   "display_name": "Python 3 (ipykernel)",
   "language": "python",
   "name": "python3"
  },
  "language_info": {
   "codemirror_mode": {
    "name": "ipython",
    "version": 3
   },
   "file_extension": ".py",
   "mimetype": "text/x-python",
   "name": "python",
   "nbconvert_exporter": "python",
   "pygments_lexer": "ipython3",
   "version": "3.12.6"
  }
 },
 "nbformat": 4,
 "nbformat_minor": 5
}
