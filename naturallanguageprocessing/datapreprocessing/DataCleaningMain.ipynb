{
 "cells": [
  {
   "cell_type": "code",
   "execution_count": 48,
   "id": "6df97981",
   "metadata": {},
   "outputs": [],
   "source": [
    "from KoreanDataCleaning import KoreanDataCleaning\n",
    "from EnglishDataCleaning import EnglishDataCleaning"
   ]
  },
  {
   "cell_type": "code",
   "execution_count": 50,
   "id": "8d2cb240-cdcd-4546-8dfa-20b4378ccaa0",
   "metadata": {},
   "outputs": [
    {
     "name": "stdout",
     "output_type": "stream",
     "text": [
      "한국어 전처리 결과: 이것은 한국어 전처리 예제 문장입니다!\n",
      "영어 전처리 결과: this is an example sentence for preprocessing!\n"
     ]
    }
   ],
   "source": [
    "def DataCleaningMain():\n",
    "    # 예제 텍스트\n",
    "    korean_text = \"이것은 한국어 전처리 예제 문장입니다!\"\n",
    "    english_text = \"This is an example sentence for preprocessing!\"\n",
    "\n",
    "    # 한국어 데이터 전처리\n",
    "    korean_cleaner = KoreanDataCleaning(korean_text)\n",
    "    cleaned_korean_text = korean_cleaner.remove_special_characters()\n",
    "    cleaned_korean_text = korean_cleaner.remove_html_tags()\n",
    "    cleaned_korean_text = korean_cleaner.to_lowercase()\n",
    "\n",
    "    print(\"한국어 전처리 결과:\", cleaned_korean_text)\n",
    "\n",
    "    # 영어 데이터 전처리\n",
    "    english_cleaner = EnglishDataCleaning(english_text)\n",
    "    cleaned_english_text = english_cleaner.remove_special_characters()\n",
    "    cleaned_english_text = english_cleaner.remove_html_tags()\n",
    "    cleaned_english_text = english_cleaner.to_lowercase()\n",
    "\n",
    "    print(\"영어 전처리 결과:\", cleaned_english_text)\n",
    "\n",
    "if __name__ == \"__main__\":\n",
    "    DataCleaningMain()\n"
   ]
  }
 ],
 "metadata": {
  "kernelspec": {
   "display_name": "Python 3 (ipykernel)",
   "language": "python",
   "name": "python3"
  },
  "language_info": {
   "codemirror_mode": {
    "name": "ipython",
    "version": 3
   },
   "file_extension": ".py",
   "mimetype": "text/x-python",
   "name": "python",
   "nbconvert_exporter": "python",
   "pygments_lexer": "ipython3",
   "version": "3.12.6"
  }
 },
 "nbformat": 4,
 "nbformat_minor": 5
}
