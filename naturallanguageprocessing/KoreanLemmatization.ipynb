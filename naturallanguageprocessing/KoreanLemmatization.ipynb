{
 "cells": [
  {
   "cell_type": "code",
   "execution_count": 3,
   "metadata": {},
   "outputs": [],
   "source": [
    "from konlpy.tag import Okt\n",
    "from Lemmatization import Lemmatization"
   ]
  },
  {
   "cell_type": "code",
   "execution_count": 5,
   "metadata": {},
   "outputs": [],
   "source": [
    "class KoreanLemmatization(Lemmatization):\n",
    "    def __init__(self, tokens):\n",
    "        super().__init__(tokens)\n",
    "        self.okt = Okt()\n",
    "\n",
    "    def apply_lemmatization(self):\n",
    "        # 한국어에서는 표제어 추출 대신 어간 추출을 통해 기본형을 유사하게 추출\n",
    "        # konlpy의 normalize와 stem 사용\n",
    "        return [self.okt.normalize(token) for token in self.tokens]\n"
   ]
  }
 ],
 "metadata": {
  "kernelspec": {
   "display_name": "vir-env.jupyter",
   "language": "python",
   "name": "python3"
  },
  "language_info": {
   "codemirror_mode": {
    "name": "ipython",
    "version": 3
   },
   "file_extension": ".py",
   "mimetype": "text/x-python",
   "name": "python",
   "nbconvert_exporter": "python",
   "pygments_lexer": "ipython3",
   "version": "3.12.6"
  }
 },
 "nbformat": 4,
 "nbformat_minor": 2
}
