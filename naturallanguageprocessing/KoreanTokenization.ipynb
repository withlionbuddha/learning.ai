{
 "cells": [
  {
   "cell_type": "code",
   "execution_count": 10,
   "metadata": {},
   "outputs": [
    {
     "name": "stdout",
     "output_type": "stream",
     "text": [
      "Requirement already satisfied: konlpy in f:\\project\\vir-env.jupyter\\lib\\site-packages (0.6.0)\n",
      "Requirement already satisfied: JPype1>=0.7.0 in f:\\project\\vir-env.jupyter\\lib\\site-packages (from konlpy) (1.5.0)\n",
      "Requirement already satisfied: lxml>=4.1.0 in f:\\project\\vir-env.jupyter\\lib\\site-packages (from konlpy) (5.3.0)\n",
      "Requirement already satisfied: numpy>=1.6 in f:\\project\\vir-env.jupyter\\lib\\site-packages (from konlpy) (1.26.4)\n",
      "Requirement already satisfied: packaging in f:\\project\\vir-env.jupyter\\lib\\site-packages (from JPype1>=0.7.0->konlpy) (24.1)\n",
      "Note: you may need to restart the kernel to use updated packages.\n",
      "Requirement already satisfied: jpype1 in f:\\project\\vir-env.jupyter\\lib\\site-packages (1.5.0)Note: you may need to restart the kernel to use updated packages.\n",
      "\n",
      "Requirement already satisfied: packaging in f:\\project\\vir-env.jupyter\\lib\\site-packages (from jpype1) (24.1)\n"
     ]
    }
   ],
   "source": [
    "%pip install konlpy\n",
    "%pip install jpype1 "
   ]
  },
  {
   "cell_type": "markdown",
   "metadata": {},
   "source": [
    "konlpy.okt는 Java Virtual Machine(JVM) 사용.\n",
    "jpype1는 python에서 java 코드 호출 라이브러리"
   ]
  },
  {
   "cell_type": "code",
   "execution_count": 9,
   "metadata": {},
   "outputs": [],
   "source": [
    "from konlpy.tag import Okt\n",
    "from Tokenization import Tokenization\n",
    "\n",
    "class KoreanTokenization(Tokenization):\n",
    "    def __init__(self, text):\n",
    "        super().__init__(text)\n",
    "        self.okt = Okt()\n",
    "\n",
    "    def tokenize(self):\n",
    "        # 한국어 형태소 기반 토큰화\n",
    "        return self.okt.morphs(self.text)\n",
    "        #return Okt().morphs(self.text)\n"
   ]
  }
 ],
 "metadata": {
  "kernelspec": {
   "display_name": "vir-env.jupyter",
   "language": "python",
   "name": "python3"
  },
  "language_info": {
   "codemirror_mode": {
    "name": "ipython",
    "version": 3
   },
   "file_extension": ".py",
   "mimetype": "text/x-python",
   "name": "python",
   "nbconvert_exporter": "python",
   "pygments_lexer": "ipython3",
   "version": "3.12.6"
  }
 },
 "nbformat": 4,
 "nbformat_minor": 2
}
