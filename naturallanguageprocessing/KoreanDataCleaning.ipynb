{
 "cells": [
  {
   "cell_type": "code",
   "execution_count": 3,
   "id": "468de31a",
   "metadata": {},
   "outputs": [
    {
     "name": "stdout",
     "output_type": "stream",
     "text": [
      "Requirement already satisfied: import-ipynb in f:\\project\\vir-env.jupyter\\lib\\site-packages (0.1.4)Note: you may need to restart the kernel to use updated packages.\n",
      "\n",
      "Requirement already satisfied: IPython in f:\\project\\vir-env.jupyter\\lib\\site-packages (from import-ipynb) (8.27.0)\n",
      "Requirement already satisfied: nbformat in f:\\project\\vir-env.jupyter\\lib\\site-packages (from import-ipynb) (5.10.4)\n",
      "Requirement already satisfied: decorator in f:\\project\\vir-env.jupyter\\lib\\site-packages (from IPython->import-ipynb) (5.1.1)\n",
      "Requirement already satisfied: jedi>=0.16 in f:\\project\\vir-env.jupyter\\lib\\site-packages (from IPython->import-ipynb) (0.19.1)\n",
      "Requirement already satisfied: matplotlib-inline in f:\\project\\vir-env.jupyter\\lib\\site-packages (from IPython->import-ipynb) (0.1.7)\n",
      "Requirement already satisfied: prompt-toolkit<3.1.0,>=3.0.41 in f:\\project\\vir-env.jupyter\\lib\\site-packages (from IPython->import-ipynb) (3.0.47)\n",
      "Requirement already satisfied: pygments>=2.4.0 in f:\\project\\vir-env.jupyter\\lib\\site-packages (from IPython->import-ipynb) (2.18.0)\n",
      "Requirement already satisfied: stack-data in f:\\project\\vir-env.jupyter\\lib\\site-packages (from IPython->import-ipynb) (0.6.3)\n",
      "Requirement already satisfied: traitlets>=5.13.0 in f:\\project\\vir-env.jupyter\\lib\\site-packages (from IPython->import-ipynb) (5.14.3)\n",
      "Requirement already satisfied: colorama in f:\\project\\vir-env.jupyter\\lib\\site-packages (from IPython->import-ipynb) (0.4.6)\n",
      "Requirement already satisfied: fastjsonschema>=2.15 in f:\\project\\vir-env.jupyter\\lib\\site-packages (from nbformat->import-ipynb) (2.20.0)\n",
      "Requirement already satisfied: jsonschema>=2.6 in f:\\project\\vir-env.jupyter\\lib\\site-packages (from nbformat->import-ipynb) (4.23.0)\n",
      "Requirement already satisfied: jupyter-core!=5.0.*,>=4.12 in f:\\project\\vir-env.jupyter\\lib\\site-packages (from nbformat->import-ipynb) (5.7.2)\n",
      "Requirement already satisfied: parso<0.9.0,>=0.8.3 in f:\\project\\vir-env.jupyter\\lib\\site-packages (from jedi>=0.16->IPython->import-ipynb) (0.8.4)\n",
      "Requirement already satisfied: attrs>=22.2.0 in f:\\project\\vir-env.jupyter\\lib\\site-packages (from jsonschema>=2.6->nbformat->import-ipynb) (24.2.0)\n",
      "Requirement already satisfied: jsonschema-specifications>=2023.03.6 in f:\\project\\vir-env.jupyter\\lib\\site-packages (from jsonschema>=2.6->nbformat->import-ipynb) (2023.12.1)\n",
      "Requirement already satisfied: referencing>=0.28.4 in f:\\project\\vir-env.jupyter\\lib\\site-packages (from jsonschema>=2.6->nbformat->import-ipynb) (0.35.1)\n",
      "Requirement already satisfied: rpds-py>=0.7.1 in f:\\project\\vir-env.jupyter\\lib\\site-packages (from jsonschema>=2.6->nbformat->import-ipynb) (0.20.0)\n",
      "Requirement already satisfied: platformdirs>=2.5 in f:\\project\\vir-env.jupyter\\lib\\site-packages (from jupyter-core!=5.0.*,>=4.12->nbformat->import-ipynb) (4.3.6)\n",
      "Requirement already satisfied: pywin32>=300 in f:\\project\\vir-env.jupyter\\lib\\site-packages (from jupyter-core!=5.0.*,>=4.12->nbformat->import-ipynb) (306)\n",
      "Requirement already satisfied: wcwidth in f:\\project\\vir-env.jupyter\\lib\\site-packages (from prompt-toolkit<3.1.0,>=3.0.41->IPython->import-ipynb) (0.2.13)\n",
      "Requirement already satisfied: executing>=1.2.0 in f:\\project\\vir-env.jupyter\\lib\\site-packages (from stack-data->IPython->import-ipynb) (2.1.0)\n",
      "Requirement already satisfied: asttokens>=2.1.0 in f:\\project\\vir-env.jupyter\\lib\\site-packages (from stack-data->IPython->import-ipynb) (2.4.1)\n",
      "Requirement already satisfied: pure-eval in f:\\project\\vir-env.jupyter\\lib\\site-packages (from stack-data->IPython->import-ipynb) (0.2.3)\n",
      "Requirement already satisfied: six>=1.12.0 in f:\\project\\vir-env.jupyter\\lib\\site-packages (from asttokens>=2.1.0->stack-data->IPython->import-ipynb) (1.16.0)\n"
     ]
    }
   ],
   "source": []
  },
  {
   "cell_type": "code",
   "execution_count": 8,
   "id": "caf2ec5d-e0c7-4415-9611-840b1dfa86aa",
   "metadata": {},
   "outputs": [],
   "source": [
    "import re\n",
    "from DataCleaning import DataCleaning\n",
    "\n",
    "class KoreanDataCleaning(DataCleaning):\n",
    "    def remove_special_characters(self):\n",
    "        # 한국어 특수 문자 및 숫자 제거\n",
    "        cleaned_text = re.sub(r\"[^가-힣\\s]\", \"\", self.text)\n",
    "        return cleaned_text\n",
    "\n",
    "    def remove_html_tags(self):\n",
    "        # HTML 태그 제거\n",
    "        cleaned_text = re.sub(r\"<[^>]+>\", \"\", self.text)\n",
    "        return cleaned_text\n",
    "\n",
    "    def to_lowercase(self):\n",
    "        # 한국어는 대소문자 구분 없음, 그대로 반환\n",
    "        return self.text\n"
   ]
  },
  {
   "cell_type": "code",
   "execution_count": null,
   "id": "d90e2c2d-3086-40ff-b93d-6ea2d0f15a25",
   "metadata": {},
   "outputs": [],
   "source": []
  }
 ],
 "metadata": {
  "kernelspec": {
   "display_name": "Python 3 (ipykernel)",
   "language": "python",
   "name": "python3"
  },
  "language_info": {
   "codemirror_mode": {
    "name": "ipython",
    "version": 3
   },
   "file_extension": ".py",
   "mimetype": "text/x-python",
   "name": "python",
   "nbconvert_exporter": "python",
   "pygments_lexer": "ipython3",
   "version": "3.12.6"
  }
 },
 "nbformat": 4,
 "nbformat_minor": 5
}
