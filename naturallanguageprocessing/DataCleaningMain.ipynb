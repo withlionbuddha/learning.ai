{
 "cells": [
  {
   "cell_type": "code",
   "execution_count": 7,
   "id": "6df97981",
   "metadata": {},
   "outputs": [
    {
     "ename": "ModuleNotFoundError",
     "evalue": "No module named 'KoreanDataCleaning'",
     "output_type": "error",
     "traceback": [
      "\u001b[1;31m---------------------------------------------------------------------------\u001b[0m",
      "\u001b[1;31mModuleNotFoundError\u001b[0m                       Traceback (most recent call last)",
      "Cell \u001b[1;32mIn[7], line 1\u001b[0m\n\u001b[1;32m----> 1\u001b[0m \u001b[38;5;28;01mfrom\u001b[39;00m \u001b[38;5;21;01mKoreanDataCleaning\u001b[39;00m \u001b[38;5;28;01mimport\u001b[39;00m KoreanDataCleaning\n\u001b[0;32m      2\u001b[0m \u001b[38;5;28;01mfrom\u001b[39;00m \u001b[38;5;21;01mEnglishDataCleaning\u001b[39;00m \u001b[38;5;28;01mimport\u001b[39;00m EnglishDataCleaning\n",
      "\u001b[1;31mModuleNotFoundError\u001b[0m: No module named 'KoreanDataCleaning'"
     ]
    }
   ],
   "source": [
    "from KoreanDataCleaning import KoreanDataCleaning\n",
    "from EnglishDataCleaning import EnglishDataCleaning"
   ]
  },
  {
   "cell_type": "code",
   "execution_count": 19,
   "id": "8d2cb240-cdcd-4546-8dfa-20b4378ccaa0",
   "metadata": {},
   "outputs": [
    {
     "ename": "ModuleNotFoundError",
     "evalue": "No module named 'KoreanDataCleaning'",
     "output_type": "error",
     "traceback": [
      "\u001b[1;31m---------------------------------------------------------------------------\u001b[0m",
      "\u001b[1;31mModuleNotFoundError\u001b[0m                       Traceback (most recent call last)",
      "Cell \u001b[1;32mIn[19], line 1\u001b[0m\n\u001b[1;32m----> 1\u001b[0m \u001b[38;5;28;01mfrom\u001b[39;00m \u001b[38;5;21;01mKoreanDataCleaning\u001b[39;00m \u001b[38;5;28;01mimport\u001b[39;00m KoreanDataCleaning\n\u001b[0;32m      2\u001b[0m \u001b[38;5;28;01mfrom\u001b[39;00m \u001b[38;5;21;01mEnglishDataCleaning\u001b[39;00m \u001b[38;5;28;01mimport\u001b[39;00m EnglishDataCleaning\n\u001b[0;32m      4\u001b[0m \u001b[38;5;28;01mdef\u001b[39;00m \u001b[38;5;21mDataCleaningMain\u001b[39m():\n\u001b[0;32m      5\u001b[0m     \u001b[38;5;66;03m# 예제 텍스트\u001b[39;00m\n",
      "\u001b[1;31mModuleNotFoundError\u001b[0m: No module named 'KoreanDataCleaning'"
     ]
    }
   ],
   "source": [
    "def DataCleaningMain():\n",
    "    # 예제 텍스트\n",
    "    korean_text = \"이것은 한국어 전처리 예제 문장입니다!\"\n",
    "    english_text = \"This is an example sentence for preprocessing!\"\n",
    "\n",
    "    # 한국어 데이터 전처리\n",
    "    korean_cleaner = KoreanDataCleaning(korean_text)\n",
    "    cleaned_korean_text = korean_cleaner.remove_special_characters()\n",
    "    cleaned_korean_text = korean_cleaner.remove_html_tags()\n",
    "    cleaned_korean_text = korean_cleaner.to_lowercase()\n",
    "\n",
    "    print(\"한국어 전처리 결과:\", cleaned_korean_text)\n",
    "\n",
    "    # 영어 데이터 전처리\n",
    "    english_cleaner = EnglishDataCleaning(english_text)\n",
    "    cleaned_english_text = english_cleaner.remove_special_characters()\n",
    "    cleaned_english_text = english_cleaner.remove_html_tags()\n",
    "    cleaned_english_text = english_cleaner.to_lowercase()\n",
    "\n",
    "    print(\"영어 전처리 결과:\", cleaned_english_text)\n",
    "\n",
    "if __name__ == \"__main__\":\n",
    "    DataCleaningMain()\n"
   ]
  },
  {
   "cell_type": "code",
   "execution_count": null,
   "id": "66409baa",
   "metadata": {},
   "outputs": [],
   "source": []
  },
  {
   "cell_type": "code",
   "execution_count": null,
   "id": "3de2a447-e3d2-450f-859d-34bdc3f79c95",
   "metadata": {},
   "outputs": [],
   "source": []
  },
  {
   "cell_type": "code",
   "execution_count": null,
   "id": "26243c60-b67c-4f2f-9bda-51eed7403c96",
   "metadata": {},
   "outputs": [],
   "source": []
  }
 ],
 "metadata": {
  "kernelspec": {
   "display_name": "Python 3 (ipykernel)",
   "language": "python",
   "name": "python3"
  },
  "language_info": {
   "codemirror_mode": {
    "name": "ipython",
    "version": 3
   },
   "file_extension": ".py",
   "mimetype": "text/x-python",
   "name": "python",
   "nbconvert_exporter": "python",
   "pygments_lexer": "ipython3",
   "version": "3.12.6"
  }
 },
 "nbformat": 4,
 "nbformat_minor": 5
}
