{
 "cells": [
  {
   "cell_type": "code",
   "execution_count": 1,
   "metadata": {},
   "outputs": [],
   "source": [
    "from Encoding import Encoding"
   ]
  },
  {
   "cell_type": "code",
   "execution_count": 2,
   "metadata": {},
   "outputs": [],
   "source": [
    "class KoreanEncoding(Encoding):\n",
    "    def __init__(self, tokens):\n",
    "        super().__init__(tokens)\n",
    "        # 한국어 단어에 대한 간단한 어휘집 생성\n",
    "        self.vocab = {word: idx for idx, word in enumerate(set(tokens), start=2)}  # 0: <pad>, 1: <unk>\n",
    "\n",
    "    def encode(self):\n",
    "        # 한국어 토큰을 어휘집을 사용해 숫자로 변환\n",
    "        return [self.vocab.get(token, 1) for token in self.tokens]  # 1은 <unk>로 처리\n"
   ]
  }
 ],
 "metadata": {
  "kernelspec": {
   "display_name": "vir-env.jupyter",
   "language": "python",
   "name": "python3"
  },
  "language_info": {
   "codemirror_mode": {
    "name": "ipython",
    "version": 3
   },
   "file_extension": ".py",
   "mimetype": "text/x-python",
   "name": "python",
   "nbconvert_exporter": "python",
   "pygments_lexer": "ipython3",
   "version": "3.12.6"
  }
 },
 "nbformat": 4,
 "nbformat_minor": 2
}
