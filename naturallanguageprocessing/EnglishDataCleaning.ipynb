{
 "cells": [
  {
   "cell_type": "code",
   "execution_count": 1,
   "id": "4bdc72b9-8778-48fe-81f5-a698015afd82",
   "metadata": {},
   "outputs": [],
   "source": [
    "import re\n",
    "from DataCleaning import DataCleaning\n",
    "\n",
    "class EnglishDataCleaning(DataCleaning):\n",
    "    def remove_special_characters(self):\n",
    "        # 영어 특수 문자 및 숫자 제거\n",
    "        cleaned_text = re.sub(r\"[^a-zA-Z\\s]\", \"\", self.text)\n",
    "        return cleaned_text\n",
    "\n",
    "    def remove_html_tags(self):\n",
    "        # HTML 태그 제거\n",
    "        cleaned_text = re.sub(r\"<[^>]+>\", \"\", self.text)\n",
    "        return cleaned_text\n",
    "\n",
    "    def to_lowercase(self):\n",
    "        # 영어는 대소문자 통일\n",
    "        return self.text.lower()\n"
   ]
  }
 ],
 "metadata": {
  "kernelspec": {
   "display_name": "Python 3 (ipykernel)",
   "language": "python",
   "name": "python3"
  },
  "language_info": {
   "codemirror_mode": {
    "name": "ipython",
    "version": 3
   },
   "file_extension": ".py",
   "mimetype": "text/x-python",
   "name": "python",
   "nbconvert_exporter": "python",
   "pygments_lexer": "ipython3",
   "version": "3.12.6"
  }
 },
 "nbformat": 4,
 "nbformat_minor": 5
}
