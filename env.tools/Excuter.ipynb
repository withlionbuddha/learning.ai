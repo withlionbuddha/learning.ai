{
 "cells": [
  {
   "cell_type": "code",
   "execution_count": 3,
   "id": "fad8c469-d277-4dbd-b16e-3fa105705930",
   "metadata": {},
   "outputs": [
    {
     "ename": "ModuleNotFoundError",
     "evalue": "No module named 'get_notebook_dir'",
     "output_type": "error",
     "traceback": [
      "\u001b[1;31m---------------------------------------------------------------------------\u001b[0m",
      "\u001b[1;31mModuleNotFoundError\u001b[0m                       Traceback (most recent call last)",
      "File \u001b[1;32mF:\\project\\workspace\\learning.ai\\env.tools\\FilesConverter.py:3\u001b[0m\n\u001b[0;32m      1\u001b[0m \u001b[38;5;28;01mimport\u001b[39;00m \u001b[38;5;21;01mos\u001b[39;00m\n\u001b[0;32m      2\u001b[0m \u001b[38;5;28;01mfrom\u001b[39;00m \u001b[38;5;21;01mnbconvert\u001b[39;00m \u001b[38;5;28;01mimport\u001b[39;00m PythonExporter\n\u001b[1;32m----> 3\u001b[0m \u001b[38;5;28;01mfrom\u001b[39;00m \u001b[38;5;21;01mget_notebook_dir\u001b[39;00m \u001b[38;5;28;01mimport\u001b[39;00m JupyterNotebook\n\u001b[0;32m      5\u001b[0m \u001b[38;5;66;03m# 홈 디렉토리와 저장 디렉토리 지정\u001b[39;00m\n\u001b[0;32m      6\u001b[0m home_dir \u001b[38;5;241m=\u001b[39m os\u001b[38;5;241m.\u001b[39mpath\u001b[38;5;241m.\u001b[39mexpanduser(\u001b[38;5;124m\"\u001b[39m\u001b[38;5;124m~\u001b[39m\u001b[38;5;124m\"\u001b[39m)\n",
      "\u001b[1;31mModuleNotFoundError\u001b[0m: No module named 'get_notebook_dir'"
     ]
    }
   ],
   "source": [
    "%run FilesConverter.py\n"
   ]
  },
  {
   "cell_type": "code",
   "execution_count": null,
   "id": "9ac26fa7-9b16-41a1-98ab-c027263d5cba",
   "metadata": {},
   "outputs": [],
   "source": []
  }
 ],
 "metadata": {
  "kernelspec": {
   "display_name": "Python 3 (ipykernel)",
   "language": "python",
   "name": "python3"
  },
  "language_info": {
   "codemirror_mode": {
    "name": "ipython",
    "version": 3
   },
   "file_extension": ".py",
   "mimetype": "text/x-python",
   "name": "python",
   "nbconvert_exporter": "python",
   "pygments_lexer": "ipython3",
   "version": "3.12.6"
  }
 },
 "nbformat": 4,
 "nbformat_minor": 5
}
