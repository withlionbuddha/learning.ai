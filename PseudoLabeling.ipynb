{
  "nbformat": 4,
  "nbformat_minor": 0,
  "metadata": {
    "colab": {
      "provenance": [],
      "include_colab_link": true
    },
    "kernelspec": {
      "name": "python3",
      "display_name": "Python 3"
    },
    "language_info": {
      "name": "python"
    }
  },
  "cells": [
    {
      "cell_type": "markdown",
      "metadata": {
        "id": "view-in-github",
        "colab_type": "text"
      },
      "source": [
        "<a href=\"https://colab.research.google.com/github/withlionbuddha/learning.ai/blob/ground/PseudoLabeling.ipynb\" target=\"_parent\"><img src=\"https://colab.research.google.com/assets/colab-badge.svg\" alt=\"Open In Colab\"/></a>"
      ]
    },
    {
      "cell_type": "markdown",
      "source": [
        " 😄 의사 레이블(Pseudo-label)\n",
        "\n",
        "---\n",
        "의사 레이블링은 일반적으로 레이블이 일부만 주어졌을 때, 나머지 데이터를 예측하여 성능을 개선하는데 사용됩니다\n",
        "\n"
      ],
      "metadata": {
        "id": "23Aepcn6oOLn"
      }
    },
    {
      "cell_type": "code",
      "source": [
        "import numpy as np\n",
        "import tensorflow as tf\n",
        "from tensorflow.keras import layers, models\n",
        "from tensorflow.keras.datasets import mnist"
      ],
      "metadata": {
        "id": "YRjZlK5DoXE3"
      },
      "execution_count": null,
      "outputs": []
    },
    {
      "cell_type": "code",
      "source": [
        "import os\n",
        "import shutil\n",
        "# MNIST 데이터셋이 저장된 경로\n",
        "cache_dir = os.path.expanduser('~/.keras/datasets/mnist.npz')\n",
        "\n",
        "# 캐시 파일 삭제\n",
        "if os.path.exists(cache_dir):\n",
        "    os.remove(cache_dir)\n",
        "    print(\"Cached MNIST data deleted.\")"
      ],
      "metadata": {
        "id": "xVBEuV5gtQTJ",
        "colab": {
          "base_uri": "https://localhost:8080/"
        },
        "outputId": "e081b83d-d5aa-4ee5-f3d4-f635f4658220"
      },
      "execution_count": null,
      "outputs": [
        {
          "output_type": "stream",
          "name": "stdout",
          "text": [
            "Cached MNIST data deleted.\n"
          ]
        }
      ]
    },
    {
      "cell_type": "markdown",
      "source": [
        "📚 데이터셋 불러오기\n",
        "\n",
        "---\n",
        "\n",
        "* mnist은 손으로 쓴 숫자(0-9) 이미지를 모아둔 데이터셋\n",
        "* train_input은 입력용 훈련이미지데이터\n",
        "* train_label은 train_input의 정답 데이터\n",
        "* test_input은 입력용 시험이미지데이터\n",
        "* test_label은 test_input의 정답 데이터\n",
        "* train_input, test_input은 0~255 사이의 정수 값(픽셀 값)으로 이루어진 배열"
      ],
      "metadata": {
        "id": "v6HNAzHXuXtN"
      }
    },
    {
      "cell_type": "code",
      "source": [
        "# MNIST 데이터셋 불러오기\n",
        "(train_input, train_label), (test_input, test_label) = mnist.load_data()"
      ],
      "metadata": {
        "colab": {
          "base_uri": "https://localhost:8080/"
        },
        "id": "MdANSE_GqXFK",
        "outputId": "ff1989e9-f8b7-4037-e331-e36db5f47716"
      },
      "execution_count": null,
      "outputs": [
        {
          "output_type": "stream",
          "name": "stdout",
          "text": [
            "Downloading data from https://storage.googleapis.com/tensorflow/tf-keras-datasets/mnist.npz\n",
            "\u001b[1m11490434/11490434\u001b[0m \u001b[32m━━━━━━━━━━━━━━━━━━━━\u001b[0m\u001b[37m\u001b[0m \u001b[1m0s\u001b[0m 0us/step\n"
          ]
        }
      ]
    },
    {
      "cell_type": "code",
      "source": [
        "print(f\"train_input shape: {train_input.shape}\")\n",
        "print(f\"axis=0 (batch of images): {train_input.shape[0]}\")\n",
        "print(f\"axis=1 (height of each image): {train_input.shape[1]}\")\n",
        "print(f\"axis=2 (width of each image): {train_input.shape[2]}\")\n",
        "print(f\"train_label shape: {train_label.shape}\")\n",
        "\n",
        "print(f\"-----------------------------------\")\n",
        "print(f\"test_input shape: {test_input.shape}\")\n",
        "print(f\"test_label shape: {test_label.shape}\")"
      ],
      "metadata": {
        "colab": {
          "base_uri": "https://localhost:8080/"
        },
        "id": "SqRig6vUqbJ0",
        "outputId": "d192db07-2c37-4397-ce20-fc19b617f94f"
      },
      "execution_count": null,
      "outputs": [
        {
          "output_type": "stream",
          "name": "stdout",
          "text": [
            "train_input shape: (60000, 28, 28)\n",
            "axis=0 (batch of images): 60000\n",
            "axis=1 (height of each image): 28\n",
            "axis=2 (width of each image): 28\n",
            "train_label shape: (60000,)\n",
            "-----------------------------------\n",
            "test_input shape: (10000, 28, 28)\n",
            "test_label shape: (10000,)\n"
          ]
        }
      ]
    },
    {
      "cell_type": "markdown",
      "source": [
        "📚 데이터 전처리\n",
        "\n",
        "\n",
        "\n",
        "---\n",
        "\n",
        "\n",
        "\n",
        "*  이미지 데이터 형태의 일관성을 위해서 channel demension을 추가한다.\n",
        "*  입력값(train_expand_input, test_input)은 astype(\"float32\")를 사용하여 데이터를 32비트 부동 소수점 형식으로 변환합니다. 이는 신경망 모델이 실수 값을 처리하는 데 더 적합하기 때문입니다.\n",
        "* 입력(train_expand_input, test_input) 데이터의 각 이미지의 픽셀 값(0~255)을 255.0으로 나눠서 0과 1 사이의 값으로 스케일링합니다.\n",
        "\n",
        "\n"
      ],
      "metadata": {
        "id": "QA292bD01TFR"
      }
    },
    {
      "cell_type": "code",
      "source": [
        "# 데이터 전처리\n",
        "train_expand_input = np.expand_dims(train_input, axis=-1)\n",
        "test_expand_input = np.expand_dims(test_input, axis=-1)\n",
        "print(f\"train_expand_input shape: {train_expand_input.shape}\")\n",
        "\n",
        "train_expand_input = train_expand_input.astype(\"float32\") / 255.0\n",
        "test_expand_input = test_expand_input.astype(\"float32\") / 255.0"
      ],
      "metadata": {
        "id": "xS0fGttlztNS",
        "outputId": "375f633e-ca01-47da-db1b-b2a7c172546d",
        "colab": {
          "base_uri": "https://localhost:8080/"
        }
      },
      "execution_count": null,
      "outputs": [
        {
          "output_type": "stream",
          "name": "stdout",
          "text": [
            "train_expand_input shape: (60000, 28, 28, 1)\n"
          ]
        }
      ]
    },
    {
      "cell_type": "markdown",
      "source": [
        "📚 데이터 타입 확인\n",
        "\n",
        "\n",
        "\n",
        "---\n",
        "\n",
        "\n",
        "* numpy.ndarray 는 NumPy 라이브러리의 다차원 배열 객체로, 효율적인 수치 연산"
      ],
      "metadata": {
        "id": "asNT3miC4j3O"
      }
    },
    {
      "cell_type": "code",
      "source": [
        "type(train_expand_input)"
      ],
      "metadata": {
        "id": "MS1imXiD3vKY",
        "outputId": "10b0ec07-d9e2-460f-b466-533e7707dde3",
        "colab": {
          "base_uri": "https://localhost:8080/"
        }
      },
      "execution_count": null,
      "outputs": [
        {
          "output_type": "execute_result",
          "data": {
            "text/plain": [
              "numpy.ndarray"
            ]
          },
          "metadata": {},
          "execution_count": 34
        }
      ]
    },
    {
      "cell_type": "markdown",
      "source": [
        "📚 데이터 분할 , 데이터 슬라이싱\n",
        "\n",
        "\n",
        "\n",
        "---\n",
        "\n",
        "\n",
        "*   train_expand_input[:num_labeled]은 입력용 훈련데이터(train_expand_input)의 6000개 images 중에서 1000개의 images를 분할하여 input_labeled에 할당합니다.\n",
        "\n"
      ],
      "metadata": {
        "id": "LYtKRFI049ZV"
      }
    },
    {
      "cell_type": "code",
      "source": [
        "# 레이블이 있는 데이터를 일부만 사용하고 나머지는 의사 레이블로 처리\n",
        "# 여기서는 예시로 train_label의 앞부분만 사용\n",
        "num_labeled = 1000\n",
        "train_input_labeled = train_expand_input[:num_labeled]\n",
        "train_label_labeled = train_label[:num_labeled]"
      ],
      "metadata": {
        "id": "7ENbZY0S4xfZ"
      },
      "execution_count": null,
      "outputs": []
    },
    {
      "cell_type": "markdown",
      "source": [
        "input_labeled의 형태는"
      ],
      "metadata": {
        "id": "dG42Dywq6DCF"
      }
    },
    {
      "cell_type": "code",
      "source": [
        "print(f\"train_input_labeled shape: {train_input_labeled.shape}\")\n",
        "print(f\"train_label_labeled shape: {train_label_labeled.shape}\")"
      ],
      "metadata": {
        "id": "83C7bwi-6BjD",
        "outputId": "8fb9324a-6088-487f-eba0-79f453b3004a",
        "colab": {
          "base_uri": "https://localhost:8080/"
        }
      },
      "execution_count": null,
      "outputs": [
        {
          "output_type": "stream",
          "name": "stdout",
          "text": [
            "train_input_labeled shape: (1000, 28, 28, 1)\n",
            "train_label_labeled shape: (1000,)\n"
          ]
        }
      ]
    },
    {
      "cell_type": "code",
      "source": [
        "test_input_unlabeled = test_expand_input[num_labeled:]\n",
        "test_label_unlabeled = test_label[num_labeled:]  # test_label_unlabed는 실제 학습에 사용되지 않음\n",
        "\n",
        "print(f\"test_input_unlabeled shape: {test_input_unlabeled.shape}\")\n",
        "print(f\"test_label_unlabeled shape: {test_label_unlabeled.shape}\")"
      ],
      "metadata": {
        "id": "dn9k6eu25LmN",
        "outputId": "fd1fb1c3-4535-4b0d-ead9-97747e2aea4a",
        "colab": {
          "base_uri": "https://localhost:8080/"
        }
      },
      "execution_count": null,
      "outputs": [
        {
          "output_type": "stream",
          "name": "stdout",
          "text": [
            "test_input_unlabeled shape: (9000, 28, 28, 1)\n",
            "test_label_unlabeled shape: (9000,)\n"
          ]
        }
      ]
    },
    {
      "cell_type": "code",
      "source": [
        "# 간단한 모델 구성\n",
        "model = models.Sequential([\n",
        "    layers.Flatten(input_shape=(28, 28)),\n",
        "    layers.Dense(128, activation='relu'),\n",
        "    layers.Dense(10, activation='softmax')\n",
        "])"
      ],
      "metadata": {
        "id": "YEplrVcH8W-p"
      },
      "execution_count": null,
      "outputs": []
    },
    {
      "cell_type": "code",
      "source": [
        "model.compile(optimizer='adam',\n",
        "              loss='sparse_categorical_crossentropy',\n",
        "              metrics=['accuracy'])"
      ],
      "metadata": {
        "id": "hM-mfwWI8Y0y"
      },
      "execution_count": null,
      "outputs": []
    },
    {
      "cell_type": "code",
      "source": [
        "# 먼저 라벨이 있는 데이터로 학습\n",
        "model.fit(train_input_labeled , train_label_labeled , epochs=5, batch_size=32, validation_split=0.2)"
      ],
      "metadata": {
        "id": "uK12aXoI-H3x",
        "outputId": "060884d5-944c-4216-eae7-d0c1b0ce2a29",
        "colab": {
          "base_uri": "https://localhost:8080/"
        }
      },
      "execution_count": null,
      "outputs": [
        {
          "output_type": "stream",
          "name": "stdout",
          "text": [
            "Epoch 1/5\n",
            "\u001b[1m25/25\u001b[0m \u001b[32m━━━━━━━━━━━━━━━━━━━━\u001b[0m\u001b[37m\u001b[0m \u001b[1m1s\u001b[0m 12ms/step - accuracy: 0.3713 - loss: 1.9615 - val_accuracy: 0.7600 - val_loss: 1.0942\n",
            "Epoch 2/5\n",
            "\u001b[1m25/25\u001b[0m \u001b[32m━━━━━━━━━━━━━━━━━━━━\u001b[0m\u001b[37m\u001b[0m \u001b[1m0s\u001b[0m 5ms/step - accuracy: 0.8296 - loss: 0.8061 - val_accuracy: 0.8250 - val_loss: 0.6895\n",
            "Epoch 3/5\n",
            "\u001b[1m25/25\u001b[0m \u001b[32m━━━━━━━━━━━━━━━━━━━━\u001b[0m\u001b[37m\u001b[0m \u001b[1m0s\u001b[0m 5ms/step - accuracy: 0.8991 - loss: 0.4324 - val_accuracy: 0.8400 - val_loss: 0.5937\n",
            "Epoch 4/5\n",
            "\u001b[1m25/25\u001b[0m \u001b[32m━━━━━━━━━━━━━━━━━━━━\u001b[0m\u001b[37m\u001b[0m \u001b[1m0s\u001b[0m 5ms/step - accuracy: 0.9359 - loss: 0.3297 - val_accuracy: 0.8600 - val_loss: 0.5289\n",
            "Epoch 5/5\n",
            "\u001b[1m25/25\u001b[0m \u001b[32m━━━━━━━━━━━━━━━━━━━━\u001b[0m\u001b[37m\u001b[0m \u001b[1m0s\u001b[0m 5ms/step - accuracy: 0.9387 - loss: 0.2689 - val_accuracy: 0.8700 - val_loss: 0.5139\n"
          ]
        },
        {
          "output_type": "execute_result",
          "data": {
            "text/plain": [
              "<keras.src.callbacks.history.History at 0x7f7bf4533ac0>"
            ]
          },
          "metadata": {},
          "execution_count": 40
        }
      ]
    },
    {
      "cell_type": "markdown",
      "source": [
        "📚 의사 레이블 생성\n",
        "\n",
        "의사 레이블은 예측된 결과로 새로 생성된 분류의 인덱스 입니다.\n",
        "\n",
        "---\n",
        "\n",
        "*   predict()함수에서 입력용 시험데이터(test_input_unlabeled)에 대해서  각 숫자(0~9) 별로 예측된 확율값을 결과값으로 반환합니다.\n",
        "\n",
        "*   np.argmax() 함수에서 예측된 확율결과값 중에서 가장 높은 확율값의 인덱스를 반환합니다.\n",
        "\n",
        "\n",
        "\n",
        "\n",
        "\n",
        "\n",
        "\n"
      ],
      "metadata": {
        "id": "HvQP2pvSPjD1"
      }
    },
    {
      "cell_type": "code",
      "source": [
        "predicted = model.predict(test_input_unlabeled)"
      ],
      "metadata": {
        "colab": {
          "base_uri": "https://localhost:8080/"
        },
        "id": "b7J2nZYqeHMl",
        "outputId": "03d05dbc-8330-4e85-89ae-2f4564d67403"
      },
      "execution_count": null,
      "outputs": [
        {
          "output_type": "stream",
          "name": "stdout",
          "text": [
            "\u001b[1m282/282\u001b[0m \u001b[32m━━━━━━━━━━━━━━━━━━━━\u001b[0m\u001b[37m\u001b[0m \u001b[1m1s\u001b[0m 2ms/step\n"
          ]
        },
        {
          "output_type": "execute_result",
          "data": {
            "text/plain": [
              "array([[2.91681266e-04, 1.00427540e-02, 4.27812862e-04, ...,\n",
              "        4.01412189e-01, 1.11776209e-02, 5.11810422e-01],\n",
              "       [9.42501187e-01, 2.59180651e-05, 3.66872083e-03, ...,\n",
              "        1.02001720e-03, 3.78395664e-03, 9.20158578e-04],\n",
              "       [2.59616529e-04, 6.06800541e-02, 8.44698250e-01, ...,\n",
              "        9.14879492e-05, 9.10250098e-02, 5.02939765e-05],\n",
              "       ...,\n",
              "       [7.65093719e-05, 4.21224744e-04, 2.00798575e-04, ...,\n",
              "        3.51952016e-02, 7.12935301e-03, 4.45011497e-01],\n",
              "       [3.24946009e-02, 5.64597221e-03, 3.01357219e-03, ...,\n",
              "        1.18357996e-02, 4.58157539e-01, 1.92918796e-02],\n",
              "       [2.94731377e-04, 1.10422327e-07, 4.40380682e-04, ...,\n",
              "        1.12150104e-07, 3.59914424e-07, 2.49373898e-07]], dtype=float32)"
            ]
          },
          "metadata": {},
          "execution_count": 42
        }
      ]
    },
    {
      "cell_type": "code",
      "source": [
        "print(f\"predicted.shape : {predicted.shape}\" )\n",
        "print(f\"len(predicted) : {len(predicted)}\")\n",
        "print(f\"predicted[0] : {predicted[0]}\")\n",
        "print(f\"predicted[1] : {predicted[1]}\")\n",
        "print(f\"predicted[2] : {predicted[2]}\")"
      ],
      "metadata": {
        "colab": {
          "base_uri": "https://localhost:8080/"
        },
        "id": "-roXs79_fIHJ",
        "outputId": "132cb761-5d3b-4a24-9de5-8c0c97f37345"
      },
      "execution_count": null,
      "outputs": [
        {
          "output_type": "stream",
          "name": "stdout",
          "text": [
            "predicted.shape : (9000, 10)\n",
            "len(predicted) : 9000\n",
            "predicted[0] : [2.9168127e-04 1.0042754e-02 4.2781286e-04 4.4641491e-02 1.1808919e-02\n",
            " 7.9182498e-03 4.6881268e-04 4.0141219e-01 1.1177621e-02 5.1181042e-01]\n",
            "predicted[1] : [9.4250119e-01 2.5918065e-05 3.6687208e-03 2.8646318e-04 8.9032709e-04\n",
            " 1.6370960e-02 3.0532306e-02 1.0200172e-03 3.7839566e-03 9.2015858e-04]\n",
            "predicted[2] : [2.5961653e-04 6.0680054e-02 8.4469825e-01 1.7353533e-03 8.1516780e-05\n",
            " 3.7128458e-04 1.0071534e-03 9.1487949e-05 9.1025010e-02 5.0293977e-05]\n"
          ]
        }
      ]
    },
    {
      "cell_type": "code",
      "source": [
        "# 의사 레이블 생성: 레이블이 없는 데이터를 모델을 통해 예측\n",
        "pseudo_labels = np.argmax(predicted, axis=1)\n",
        "pseudo_labels"
      ],
      "metadata": {
        "colab": {
          "base_uri": "https://localhost:8080/"
        },
        "id": "cdGaeag_oRbB",
        "outputId": "913a933a-158f-4b19-a0b3-4ef95f37dd4d"
      },
      "execution_count": null,
      "outputs": [
        {
          "output_type": "execute_result",
          "data": {
            "text/plain": [
              "array([9, 0, 2, ..., 4, 8, 6])"
            ]
          },
          "metadata": {},
          "execution_count": 47
        }
      ]
    },
    {
      "cell_type": "code",
      "source": [
        "len(pseudo_labels)"
      ],
      "metadata": {
        "colab": {
          "base_uri": "https://localhost:8080/"
        },
        "id": "RH9r7mQEjPLH",
        "outputId": "d4057259-0b82-4585-82ae-6c3f29d225e7"
      },
      "execution_count": null,
      "outputs": [
        {
          "output_type": "execute_result",
          "data": {
            "text/plain": [
              "9000"
            ]
          },
          "metadata": {},
          "execution_count": 57
        }
      ]
    },
    {
      "cell_type": "code",
      "source": [
        "# 라벨이 없는 데이터에 대해 예측된 의사 레이블로 다시 학습\n",
        "x_combined = np.concatenate([train_input_labeled, test_input_unlabeled ])\n",
        "y_combined = np.concatenate([train_label_labeled, pseudo_labels])"
      ],
      "metadata": {
        "id": "JF6PWUVXTrMP"
      },
      "execution_count": null,
      "outputs": []
    },
    {
      "cell_type": "code",
      "source": [
        "model.fit(x_combined, y_combined, epochs=5, batch_size=32, validation_split=0.2)\n",
        "\n",
        "# 테스트 데이터로 성능 확인\n",
        "test_loss, test_acc = model.evaluate(train_input_labeled, train_label_labeled)\n",
        "print(f\"Test accuracy: {test_acc:.4f}\")"
      ],
      "metadata": {
        "id": "497-VN9aTv8r"
      },
      "execution_count": null,
      "outputs": []
    }
  ]
}