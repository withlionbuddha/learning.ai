{
  "nbformat": 4,
  "nbformat_minor": 0,
  "metadata": {
    "colab": {
      "provenance": [],
      "authorship_tag": "ABX9TyOXM/Rq+ieYr9HHSbJAshWb",
      "include_colab_link": true
    },
    "kernelspec": {
      "name": "python3",
      "display_name": "Python 3"
    },
    "language_info": {
      "name": "python"
    }
  },
  "cells": [
    {
      "cell_type": "markdown",
      "metadata": {
        "id": "view-in-github",
        "colab_type": "text"
      },
      "source": [
        "<a href=\"https://colab.research.google.com/github/withlionbuddha/learning.ai/blob/ground/PseudoLabeling.ipynb\" target=\"_parent\"><img src=\"https://colab.research.google.com/assets/colab-badge.svg\" alt=\"Open In Colab\"/></a>"
      ]
    },
    {
      "cell_type": "markdown",
      "source": [
        "의사 레이블(Pseudo-label)\n",
        "\n",
        "---\n",
        "의사 레이블링은 일반적으로 레이블이 일부만 주어졌을 때, 나머지 데이터를 예측하여 성능을 개선하는데 사용됩니다\n",
        "\n"
      ],
      "metadata": {
        "id": "23Aepcn6oOLn"
      }
    },
    {
      "cell_type": "code",
      "source": [
        "import numpy as np\n",
        "import tensorflow as tf\n",
        "from tensorflow.keras import layers, models\n",
        "from tensorflow.keras.datasets import mnist"
      ],
      "metadata": {
        "id": "YRjZlK5DoXE3"
      },
      "execution_count": 1,
      "outputs": []
    },
    {
      "cell_type": "code",
      "source": [
        "import os\n",
        "import shutil\n",
        "# MNIST 데이터셋이 저장된 경로\n",
        "cache_dir = os.path.expanduser('~/.keras/datasets/mnist.npz')\n",
        "\n",
        "# 캐시 파일 삭제\n",
        "if os.path.exists(cache_dir):\n",
        "    os.remove(cache_dir)\n",
        "    print(\"Cached MNIST data deleted.\")"
      ],
      "metadata": {
        "colab": {
          "base_uri": "https://localhost:8080/"
        },
        "id": "xVBEuV5gtQTJ",
        "outputId": "501ff927-76ed-4aa3-c450-6b4c70f95a97"
      },
      "execution_count": 11,
      "outputs": [
        {
          "output_type": "stream",
          "name": "stdout",
          "text": [
            "Cached MNIST data deleted.\n"
          ]
        }
      ]
    },
    {
      "cell_type": "markdown",
      "source": [
        "mnist.load_data()\n",
        "   손으로 쓴 숫자(0-9) 이미지를 모아둔 데이터셋\n",
        "\n",
        "xtrain, y_train, x_test, y_test\n",
        "    0~255 사이의 정수 값(픽셀 값)으로 이루어진 배열\n"
      ],
      "metadata": {
        "id": "v6HNAzHXuXtN"
      }
    },
    {
      "cell_type": "code",
      "source": [
        "# MNIST 데이터셋 불러오기\n",
        "(x_train, y_train), (x_test, y_test) = mnist.load_data()"
      ],
      "metadata": {
        "colab": {
          "base_uri": "https://localhost:8080/"
        },
        "id": "MdANSE_GqXFK",
        "outputId": "a5919e20-f41c-4886-aa9c-d2909ee09606"
      },
      "execution_count": 12,
      "outputs": [
        {
          "output_type": "stream",
          "name": "stdout",
          "text": [
            "Downloading data from https://storage.googleapis.com/tensorflow/tf-keras-datasets/mnist.npz\n",
            "\u001b[1m11490434/11490434\u001b[0m \u001b[32m━━━━━━━━━━━━━━━━━━━━\u001b[0m\u001b[37m\u001b[0m \u001b[1m1s\u001b[0m 0us/step\n"
          ]
        }
      ]
    },
    {
      "cell_type": "markdown",
      "source": [
        " 이미지 데이터(28x28 픽셀)를 60,000개의 샘플로 쌓아올린 3D 배열\n",
        "\n"
      ],
      "metadata": {
        "id": "qxLVRAGTwXqo"
      }
    },
    {
      "cell_type": "code",
      "source": [
        "print(f\"x_train shape: {x_train.shape}\")\n",
        "print(f\"axis=0 (number of images): {x_train.shape[0]}\")\n",
        "print(f\"axis=1 (height of each image): {x_train.shape[1]}\")\n",
        "print(f\"axis=2 (width of each image): {x_train.shape[2]}\")"
      ],
      "metadata": {
        "colab": {
          "base_uri": "https://localhost:8080/"
        },
        "id": "SqRig6vUqbJ0",
        "outputId": "443ee589-5cb4-4c21-82b1-3ffc1ea3ff3a"
      },
      "execution_count": 15,
      "outputs": [
        {
          "output_type": "stream",
          "name": "stdout",
          "text": [
            "x_train shape: (60000, 28, 28)\n",
            "axis=0 (number of images): 60000\n",
            "axis=1 (height of each image): 28\n",
            "axis=2 (width of each image): 28\n"
          ]
        }
      ]
    },
    {
      "cell_type": "code",
      "source": [
        "y_test"
      ],
      "metadata": {
        "colab": {
          "base_uri": "https://localhost:8080/"
        },
        "id": "AwBTnOFEqj4t",
        "outputId": "b8e6749c-7610-4fe8-f912-8bd492cf83df"
      },
      "execution_count": 7,
      "outputs": [
        {
          "output_type": "execute_result",
          "data": {
            "text/plain": [
              "array([7, 2, 1, ..., 4, 5, 6], dtype=uint8)"
            ]
          },
          "metadata": {},
          "execution_count": 7
        }
      ]
    },
    {
      "cell_type": "code",
      "source": [
        "\n",
        "\n",
        "\n",
        "\n",
        "# 데이터 전처리\n",
        "x_train = x_train.astype(\"float32\") / 255.0\n",
        "x_test = x_test.astype(\"float32\") / 255.0\n",
        "\n",
        "# 레이블이 있는 데이터를 일부만 사용하고 나머지는 의사 레이블로 처리\n",
        "# 여기서는 예시로 y_train의 앞부분만 사용\n",
        "num_labeled = 1000\n",
        "x_labeled = x_train[:num_labeled]\n",
        "y_labeled = y_train[:num_labeled]\n",
        "x_unlabeled = x_train[num_labeled:]\n",
        "y_unlabeled = y_train[num_labeled:]  # 원래 라벨은 실제 학습에 사용되지 않음\n",
        "\n",
        "# 간단한 모델 구성\n",
        "model = models.Sequential([\n",
        "    layers.Flatten(input_shape=(28, 28)),\n",
        "    layers.Dense(128, activation='relu'),\n",
        "    layers.Dense(10, activation='softmax')\n",
        "])\n",
        "\n",
        "model.compile(optimizer='adam',\n",
        "              loss='sparse_categorical_crossentropy',\n",
        "              metrics=['accuracy'])\n",
        "\n",
        "# 먼저 라벨이 있는 데이터로 학습\n",
        "model.fit(x_labeled, y_labeled, epochs=5, batch_size=32, validation_split=0.2)\n",
        "\n",
        "# 의사 레이블 생성: 레이블이 없는 데이터를 모델을 통해 예측\n",
        "pseudo_labels = np.argmax(model.predict(x_unlabeled), axis=1)\n",
        "\n",
        "# 라벨이 없는 데이터에 대해 예측된 의사 레이블로 다시 학습\n",
        "x_combined = np.concatenate([x_labeled, x_unlabeled])\n",
        "y_combined = np.concatenate([y_labeled, pseudo_labels])\n",
        "\n",
        "model.fit(x_combined, y_combined, epochs=5, batch_size=32, validation_split=0.2)\n",
        "\n",
        "# 테스트 데이터로 성능 확인\n",
        "test_loss, test_acc = model.evaluate(x_test, y_test)\n",
        "print(f\"Test accuracy: {test_acc:.4f}\")\n"
      ],
      "metadata": {
        "colab": {
          "base_uri": "https://localhost:8080/"
        },
        "id": "cdGaeag_oRbB",
        "outputId": "c6bd132f-b3cd-4b3d-a564-96c6eb1f78c5"
      },
      "execution_count": 2,
      "outputs": [
        {
          "output_type": "stream",
          "name": "stdout",
          "text": [
            "Downloading data from https://storage.googleapis.com/tensorflow/tf-keras-datasets/mnist.npz\n",
            "\u001b[1m11490434/11490434\u001b[0m \u001b[32m━━━━━━━━━━━━━━━━━━━━\u001b[0m\u001b[37m\u001b[0m \u001b[1m1s\u001b[0m 0us/step\n",
            "Epoch 1/5\n"
          ]
        },
        {
          "output_type": "stream",
          "name": "stderr",
          "text": [
            "/usr/local/lib/python3.10/dist-packages/keras/src/layers/reshaping/flatten.py:37: UserWarning: Do not pass an `input_shape`/`input_dim` argument to a layer. When using Sequential models, prefer using an `Input(shape)` object as the first layer in the model instead.\n",
            "  super().__init__(**kwargs)\n"
          ]
        },
        {
          "output_type": "stream",
          "name": "stdout",
          "text": [
            "\u001b[1m25/25\u001b[0m \u001b[32m━━━━━━━━━━━━━━━━━━━━\u001b[0m\u001b[37m\u001b[0m \u001b[1m2s\u001b[0m 18ms/step - accuracy: 0.3915 - loss: 1.9721 - val_accuracy: 0.7850 - val_loss: 1.0300\n",
            "Epoch 2/5\n",
            "\u001b[1m25/25\u001b[0m \u001b[32m━━━━━━━━━━━━━━━━━━━━\u001b[0m\u001b[37m\u001b[0m \u001b[1m0s\u001b[0m 8ms/step - accuracy: 0.8425 - loss: 0.7671 - val_accuracy: 0.8300 - val_loss: 0.6708\n",
            "Epoch 3/5\n",
            "\u001b[1m25/25\u001b[0m \u001b[32m━━━━━━━━━━━━━━━━━━━━\u001b[0m\u001b[37m\u001b[0m \u001b[1m0s\u001b[0m 9ms/step - accuracy: 0.8965 - loss: 0.4253 - val_accuracy: 0.8500 - val_loss: 0.5719\n",
            "Epoch 4/5\n",
            "\u001b[1m25/25\u001b[0m \u001b[32m━━━━━━━━━━━━━━━━━━━━\u001b[0m\u001b[37m\u001b[0m \u001b[1m0s\u001b[0m 9ms/step - accuracy: 0.9302 - loss: 0.3105 - val_accuracy: 0.8650 - val_loss: 0.5236\n",
            "Epoch 5/5\n",
            "\u001b[1m25/25\u001b[0m \u001b[32m━━━━━━━━━━━━━━━━━━━━\u001b[0m\u001b[37m\u001b[0m \u001b[1m0s\u001b[0m 7ms/step - accuracy: 0.9439 - loss: 0.2461 - val_accuracy: 0.8550 - val_loss: 0.5277\n",
            "\u001b[1m1844/1844\u001b[0m \u001b[32m━━━━━━━━━━━━━━━━━━━━\u001b[0m\u001b[37m\u001b[0m \u001b[1m3s\u001b[0m 1ms/step\n",
            "Epoch 1/5\n",
            "\u001b[1m1500/1500\u001b[0m \u001b[32m━━━━━━━━━━━━━━━━━━━━\u001b[0m\u001b[37m\u001b[0m \u001b[1m6s\u001b[0m 4ms/step - accuracy: 0.9542 - loss: 0.1605 - val_accuracy: 0.9606 - val_loss: 0.0986\n",
            "Epoch 2/5\n",
            "\u001b[1m1500/1500\u001b[0m \u001b[32m━━━━━━━━━━━━━━━━━━━━\u001b[0m\u001b[37m\u001b[0m \u001b[1m10s\u001b[0m 3ms/step - accuracy: 0.9663 - loss: 0.0915 - val_accuracy: 0.9671 - val_loss: 0.0796\n",
            "Epoch 3/5\n",
            "\u001b[1m1500/1500\u001b[0m \u001b[32m━━━━━━━━━━━━━━━━━━━━\u001b[0m\u001b[37m\u001b[0m \u001b[1m7s\u001b[0m 4ms/step - accuracy: 0.9727 - loss: 0.0721 - val_accuracy: 0.9631 - val_loss: 0.0909\n",
            "Epoch 4/5\n",
            "\u001b[1m1500/1500\u001b[0m \u001b[32m━━━━━━━━━━━━━━━━━━━━\u001b[0m\u001b[37m\u001b[0m \u001b[1m5s\u001b[0m 3ms/step - accuracy: 0.9752 - loss: 0.0660 - val_accuracy: 0.9653 - val_loss: 0.0870\n",
            "Epoch 5/5\n",
            "\u001b[1m1500/1500\u001b[0m \u001b[32m━━━━━━━━━━━━━━━━━━━━\u001b[0m\u001b[37m\u001b[0m \u001b[1m7s\u001b[0m 4ms/step - accuracy: 0.9809 - loss: 0.0556 - val_accuracy: 0.9658 - val_loss: 0.0939\n",
            "\u001b[1m313/313\u001b[0m \u001b[32m━━━━━━━━━━━━━━━━━━━━\u001b[0m\u001b[37m\u001b[0m \u001b[1m0s\u001b[0m 1ms/step - accuracy: 0.8574 - loss: 1.1652\n",
            "Test accuracy: 0.8774\n"
          ]
        }
      ]
    }
  ]
}