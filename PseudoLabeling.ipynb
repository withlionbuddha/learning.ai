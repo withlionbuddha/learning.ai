{
  "nbformat": 4,
  "nbformat_minor": 0,
  "metadata": {
    "colab": {
      "provenance": [],
      "include_colab_link": true
    },
    "kernelspec": {
      "name": "python3",
      "display_name": "Python 3"
    },
    "language_info": {
      "name": "python"
    }
  },
  "cells": [
    {
      "cell_type": "markdown",
      "metadata": {
        "id": "view-in-github",
        "colab_type": "text"
      },
      "source": [
        "<a href=\"https://colab.research.google.com/github/withlionbuddha/learning.ai/blob/ground/PseudoLabeling.ipynb\" target=\"_parent\"><img src=\"https://colab.research.google.com/assets/colab-badge.svg\" alt=\"Open In Colab\"/></a>"
      ]
    },
    {
      "cell_type": "markdown",
      "source": [
        "의사 레이블(Pseudo-label)\n",
        "\n",
        "---\n",
        "의사 레이블링은 일반적으로 레이블이 일부만 주어졌을 때, 나머지 데이터를 예측하여 성능을 개선하는데 사용됩니다\n",
        "\n"
      ],
      "metadata": {
        "id": "23Aepcn6oOLn"
      }
    },
    {
      "cell_type": "code",
      "source": [
        "import numpy as np\n",
        "import tensorflow as tf\n",
        "from tensorflow.keras import layers, models\n",
        "from tensorflow.keras.datasets import mnist"
      ],
      "metadata": {
        "id": "YRjZlK5DoXE3"
      },
      "execution_count": 2,
      "outputs": []
    },
    {
      "cell_type": "code",
      "source": [
        "import os\n",
        "import shutil\n",
        "# MNIST 데이터셋이 저장된 경로\n",
        "cache_dir = os.path.expanduser('~/.keras/datasets/mnist.npz')\n",
        "\n",
        "# 캐시 파일 삭제\n",
        "if os.path.exists(cache_dir):\n",
        "    os.remove(cache_dir)\n",
        "    print(\"Cached MNIST data deleted.\")"
      ],
      "metadata": {
        "id": "xVBEuV5gtQTJ"
      },
      "execution_count": 3,
      "outputs": []
    },
    {
      "cell_type": "markdown",
      "source": [
        "\n",
        "* mnist은 손으로 쓴 숫자(0-9) 이미지를 모아둔 데이터셋\n",
        "* train_input은 입력용 훈련이미지데이터\n",
        "* train_label은 train_input의 정답 데이터\n",
        "* test_input은 입력용 시험이미지데이터\n",
        "* test_label은 test_input의 정답 데이터\n",
        "* 0~255 사이의 정수 값(픽셀 값)으로 이루어진 배열\n"
      ],
      "metadata": {
        "id": "v6HNAzHXuXtN"
      }
    },
    {
      "cell_type": "code",
      "source": [
        "# MNIST 데이터셋 불러오기\n",
        "(train_input, train_label), (test_input, test_label) = mnist.load_data()"
      ],
      "metadata": {
        "colab": {
          "base_uri": "https://localhost:8080/"
        },
        "id": "MdANSE_GqXFK",
        "outputId": "460d0754-1a1f-42a2-ac65-831e3e3a7796"
      },
      "execution_count": 4,
      "outputs": [
        {
          "output_type": "stream",
          "name": "stdout",
          "text": [
            "Downloading data from https://storage.googleapis.com/tensorflow/tf-keras-datasets/mnist.npz\n",
            "\u001b[1m11490434/11490434\u001b[0m \u001b[32m━━━━━━━━━━━━━━━━━━━━\u001b[0m\u001b[37m\u001b[0m \u001b[1m0s\u001b[0m 0us/step\n"
          ]
        }
      ]
    },
    {
      "cell_type": "code",
      "source": [
        "print(f\"train_input shape: {train_input.shape}\")\n",
        "print(f\"axis=0 (batch of images): {train_input.shape[0]}\")\n",
        "print(f\"axis=1 (height of each image): {train_input.shape[1]}\")\n",
        "print(f\"axis=2 (width of each image): {train_input.shape[2]}\")\n",
        "print(f\"train_label shape: {train_label.shape}\")\n",
        "\n",
        "print(f\"-----------------------------------\")\n",
        "print(f\"test_input shape: {test_input.shape}\")\n",
        "print(f\"test_label shape: {test_label.shape}\")"
      ],
      "metadata": {
        "colab": {
          "base_uri": "https://localhost:8080/"
        },
        "id": "SqRig6vUqbJ0",
        "outputId": "50e66919-da51-4417-8bff-47cae5a62c56"
      },
      "execution_count": 5,
      "outputs": [
        {
          "output_type": "stream",
          "name": "stdout",
          "text": [
            "train_input shape: (60000, 28, 28)\n",
            "axis=0 (batch of images): 60000\n",
            "axis=1 (height of each image): 28\n",
            "axis=2 (width of each image): 28\n",
            "train_label shape: (60000,)\n",
            "-----------------------------------\n",
            "test_input shape: (10000, 28, 28)\n",
            "test_label shape: (10000,)\n"
          ]
        }
      ]
    },
    {
      "cell_type": "markdown",
      "source": [
        "\n",
        "*  입력값(train_expand_input, test_input)은 astype(\"float32\")를 사용하여 데이터를 32비트 부동 소수점 형식으로 변환합니다. 이는 신경망 모델이 실수 값을 처리하는 데 더 적합하기 때문입니다.\n",
        "\n",
        "\n",
        "* 입력값(train_expand_input, test_input)을 각 이미지의 픽셀 값(0~255)을 255.0으로 나눠서 0과 1 사이의 값으로 스케일링합니다.\n",
        "\n",
        "\n"
      ],
      "metadata": {
        "id": "QA292bD01TFR"
      }
    },
    {
      "cell_type": "code",
      "source": [
        "# 데이터 전처리\n",
        "train_expand_input = np.expand_dims(train_input, axis=-1)\n",
        "print(f\"train_expand_input shape: {train_expand_input.shape}\")\n",
        "\n",
        "train_expand_input = train_expand_input.astype(\"float32\") / 255.0\n",
        "test_input = test_input.astype(\"float32\") / 255.0"
      ],
      "metadata": {
        "id": "xS0fGttlztNS",
        "outputId": "6d17947f-4535-4a57-ca6e-3bd359cad2d9",
        "colab": {
          "base_uri": "https://localhost:8080/"
        }
      },
      "execution_count": 7,
      "outputs": [
        {
          "output_type": "stream",
          "name": "stdout",
          "text": [
            "train_expand_input shape: (60000, 28, 28, 1)\n"
          ]
        }
      ]
    },
    {
      "cell_type": "markdown",
      "source": [
        "\n",
        "* numpy.ndarray 는 NumPy 라이브러리의 다차원 배열 객체로, 효율적인 수치 연산"
      ],
      "metadata": {
        "id": "asNT3miC4j3O"
      }
    },
    {
      "cell_type": "code",
      "source": [
        "type(train_expand_input)"
      ],
      "metadata": {
        "id": "MS1imXiD3vKY",
        "outputId": "e9af5e4a-729f-45ad-e9fb-77923fbedbb0",
        "colab": {
          "base_uri": "https://localhost:8080/"
        }
      },
      "execution_count": 10,
      "outputs": [
        {
          "output_type": "execute_result",
          "data": {
            "text/plain": [
              "numpy.ndarray"
            ]
          },
          "metadata": {},
          "execution_count": 10
        }
      ]
    },
    {
      "cell_type": "markdown",
      "source": [
        "데이터 분할 , 데이터 슬라이싱\n",
        "\n",
        "train_expand_input[:num_labeled]은 train_expand_input의 6000개의 images 중에서 1000개의 images를 분할하여 input_labeled에 할당합니다."
      ],
      "metadata": {
        "id": "LYtKRFI049ZV"
      }
    },
    {
      "cell_type": "code",
      "source": [
        "# 레이블이 있는 데이터를 일부만 사용하고 나머지는 의사 레이블로 처리\n",
        "# 여기서는 예시로 train_label의 앞부분만 사용\n",
        "num_labeled = 1000\n",
        "train_input_labeled = train_expand_input[:num_labeled]\n",
        "train_label_labeled = train_label[:num_labeled]"
      ],
      "metadata": {
        "id": "7ENbZY0S4xfZ"
      },
      "execution_count": 21,
      "outputs": []
    },
    {
      "cell_type": "markdown",
      "source": [
        "input_labeled의 형태는"
      ],
      "metadata": {
        "id": "dG42Dywq6DCF"
      }
    },
    {
      "cell_type": "code",
      "source": [
        "print(f\"train_input_labeled shape: {train_input_labeled.shape}\")\n",
        "print(f\"train_label_labeled shape: {train_label_labeled.shape}\")"
      ],
      "metadata": {
        "id": "83C7bwi-6BjD",
        "outputId": "db3f0312-6cea-4718-841d-db9bf0de4b1a",
        "colab": {
          "base_uri": "https://localhost:8080/"
        }
      },
      "execution_count": 22,
      "outputs": [
        {
          "output_type": "stream",
          "name": "stdout",
          "text": [
            "train_input_labeled shape: (1000, 28, 28, 1)\n",
            "train_label_labeled shape: (1000,)\n"
          ]
        }
      ]
    },
    {
      "cell_type": "code",
      "source": [
        "test_input_unlabeled = test_input[num_labeled:]\n",
        "test_label_unlabeled = test_label[num_labeled:]  # 원래 라벨은 실제 학습에 사용되지 않음\n",
        "\n",
        "print(f\"test_input_unlabeled shape: {test_input_unlabeled.shape}\")\n",
        "print(f\"test_label_unlabeled shape: {test_label_unlabeled.shape}\")"
      ],
      "metadata": {
        "id": "dn9k6eu25LmN",
        "outputId": "b1461f02-4b36-4229-c53a-aa1460e76aaa",
        "colab": {
          "base_uri": "https://localhost:8080/"
        }
      },
      "execution_count": 23,
      "outputs": [
        {
          "output_type": "stream",
          "name": "stdout",
          "text": [
            "test_input_unlabeled shape: (9000, 28, 28)\n",
            "test_label_unlabeled shape: (9000,)\n"
          ]
        }
      ]
    },
    {
      "cell_type": "code",
      "source": [
        "# 간단한 모델 구성\n",
        "model = models.Sequential([\n",
        "    layers.Flatten(input_shape=(28, 28)),\n",
        "    layers.Dense(128, activation='relu'),\n",
        "    layers.Dense(10, activation='softmax')\n",
        "])"
      ],
      "metadata": {
        "id": "YEplrVcH8W-p",
        "outputId": "978085b6-35c9-4e74-807e-bf7ff89ab200",
        "colab": {
          "base_uri": "https://localhost:8080/"
        }
      },
      "execution_count": 19,
      "outputs": [
        {
          "output_type": "stream",
          "name": "stderr",
          "text": [
            "/usr/local/lib/python3.10/dist-packages/keras/src/layers/reshaping/flatten.py:37: UserWarning: Do not pass an `input_shape`/`input_dim` argument to a layer. When using Sequential models, prefer using an `Input(shape)` object as the first layer in the model instead.\n",
            "  super().__init__(**kwargs)\n"
          ]
        }
      ]
    },
    {
      "cell_type": "code",
      "source": [
        "model.compile(optimizer='adam',\n",
        "              loss='sparse_categorical_crossentropy',\n",
        "              metrics=['accuracy'])"
      ],
      "metadata": {
        "id": "hM-mfwWI8Y0y"
      },
      "execution_count": 20,
      "outputs": []
    },
    {
      "cell_type": "code",
      "source": [
        "# 먼저 라벨이 있는 데이터로 학습\n",
        "model.fit(train_input_labeled , train_label_labeled , epochs=5, batch_size=32, validation_split=0.2)"
      ],
      "metadata": {
        "id": "uK12aXoI-H3x",
        "outputId": "d1bed1cf-8c3a-4267-8b51-2dd7c6d0c207",
        "colab": {
          "base_uri": "https://localhost:8080/"
        }
      },
      "execution_count": 24,
      "outputs": [
        {
          "output_type": "stream",
          "name": "stdout",
          "text": [
            "Epoch 1/5\n",
            "\u001b[1m25/25\u001b[0m \u001b[32m━━━━━━━━━━━━━━━━━━━━\u001b[0m\u001b[37m\u001b[0m \u001b[1m2s\u001b[0m 21ms/step - accuracy: 0.3714 - loss: 71.8700 - val_accuracy: 0.6950 - val_loss: 20.6599\n",
            "Epoch 2/5\n",
            "\u001b[1m25/25\u001b[0m \u001b[32m━━━━━━━━━━━━━━━━━━━━\u001b[0m\u001b[37m\u001b[0m \u001b[1m1s\u001b[0m 10ms/step - accuracy: 0.8336 - loss: 6.0208 - val_accuracy: 0.7900 - val_loss: 13.5004\n",
            "Epoch 3/5\n",
            "\u001b[1m25/25\u001b[0m \u001b[32m━━━━━━━━━━━━━━━━━━━━\u001b[0m\u001b[37m\u001b[0m \u001b[1m0s\u001b[0m 11ms/step - accuracy: 0.9428 - loss: 1.4402 - val_accuracy: 0.7900 - val_loss: 12.4891\n",
            "Epoch 4/5\n",
            "\u001b[1m25/25\u001b[0m \u001b[32m━━━━━━━━━━━━━━━━━━━━\u001b[0m\u001b[37m\u001b[0m \u001b[1m0s\u001b[0m 9ms/step - accuracy: 0.9710 - loss: 0.5413 - val_accuracy: 0.7950 - val_loss: 12.1829\n",
            "Epoch 5/5\n",
            "\u001b[1m25/25\u001b[0m \u001b[32m━━━━━━━━━━━━━━━━━━━━\u001b[0m\u001b[37m\u001b[0m \u001b[1m0s\u001b[0m 12ms/step - accuracy: 0.9871 - loss: 0.0843 - val_accuracy: 0.7800 - val_loss: 11.7318\n"
          ]
        },
        {
          "output_type": "execute_result",
          "data": {
            "text/plain": [
              "<keras.src.callbacks.history.History at 0x797a3489c670>"
            ]
          },
          "metadata": {},
          "execution_count": 24
        }
      ]
    },
    {
      "cell_type": "code",
      "source": [
        "\n",
        "\n",
        "# 의사 레이블 생성: 레이블이 없는 데이터를 모델을 통해 예측\n",
        "pseudo_labels = np.argmax(model.predict(test_input_unlabeled), axis=1)\n",
        "\n",
        "# 라벨이 없는 데이터에 대해 예측된 의사 레이블로 다시 학습\n",
        "x_combined = np.concatenate([x_labeled, test_input_unlabeled ])\n",
        "y_combined = np.concatenate([y_labeled, pseudo_labels])\n",
        "\n",
        "model.fit(x_combined, y_combined, epochs=5, batch_size=32, validation_split=0.2)\n",
        "\n",
        "# 테스트 데이터로 성능 확인\n",
        "test_loss, test_acc = model.evaluate(x_test, y_test)\n",
        "print(f\"Test accuracy: {test_acc:.4f}\")\n"
      ],
      "metadata": {
        "colab": {
          "base_uri": "https://localhost:8080/"
        },
        "id": "cdGaeag_oRbB",
        "outputId": "c6bd132f-b3cd-4b3d-a564-96c6eb1f78c5"
      },
      "execution_count": null,
      "outputs": [
        {
          "output_type": "stream",
          "name": "stdout",
          "text": [
            "Downloading data from https://storage.googleapis.com/tensorflow/tf-keras-datasets/mnist.npz\n",
            "\u001b[1m11490434/11490434\u001b[0m \u001b[32m━━━━━━━━━━━━━━━━━━━━\u001b[0m\u001b[37m\u001b[0m \u001b[1m1s\u001b[0m 0us/step\n",
            "Epoch 1/5\n"
          ]
        },
        {
          "output_type": "stream",
          "name": "stderr",
          "text": [
            "/usr/local/lib/python3.10/dist-packages/keras/src/layers/reshaping/flatten.py:37: UserWarning: Do not pass an `input_shape`/`input_dim` argument to a layer. When using Sequential models, prefer using an `Input(shape)` object as the first layer in the model instead.\n",
            "  super().__init__(**kwargs)\n"
          ]
        },
        {
          "output_type": "stream",
          "name": "stdout",
          "text": [
            "\u001b[1m25/25\u001b[0m \u001b[32m━━━━━━━━━━━━━━━━━━━━\u001b[0m\u001b[37m\u001b[0m \u001b[1m2s\u001b[0m 18ms/step - accuracy: 0.3915 - loss: 1.9721 - val_accuracy: 0.7850 - val_loss: 1.0300\n",
            "Epoch 2/5\n",
            "\u001b[1m25/25\u001b[0m \u001b[32m━━━━━━━━━━━━━━━━━━━━\u001b[0m\u001b[37m\u001b[0m \u001b[1m0s\u001b[0m 8ms/step - accuracy: 0.8425 - loss: 0.7671 - val_accuracy: 0.8300 - val_loss: 0.6708\n",
            "Epoch 3/5\n",
            "\u001b[1m25/25\u001b[0m \u001b[32m━━━━━━━━━━━━━━━━━━━━\u001b[0m\u001b[37m\u001b[0m \u001b[1m0s\u001b[0m 9ms/step - accuracy: 0.8965 - loss: 0.4253 - val_accuracy: 0.8500 - val_loss: 0.5719\n",
            "Epoch 4/5\n",
            "\u001b[1m25/25\u001b[0m \u001b[32m━━━━━━━━━━━━━━━━━━━━\u001b[0m\u001b[37m\u001b[0m \u001b[1m0s\u001b[0m 9ms/step - accuracy: 0.9302 - loss: 0.3105 - val_accuracy: 0.8650 - val_loss: 0.5236\n",
            "Epoch 5/5\n",
            "\u001b[1m25/25\u001b[0m \u001b[32m━━━━━━━━━━━━━━━━━━━━\u001b[0m\u001b[37m\u001b[0m \u001b[1m0s\u001b[0m 7ms/step - accuracy: 0.9439 - loss: 0.2461 - val_accuracy: 0.8550 - val_loss: 0.5277\n",
            "\u001b[1m1844/1844\u001b[0m \u001b[32m━━━━━━━━━━━━━━━━━━━━\u001b[0m\u001b[37m\u001b[0m \u001b[1m3s\u001b[0m 1ms/step\n",
            "Epoch 1/5\n",
            "\u001b[1m1500/1500\u001b[0m \u001b[32m━━━━━━━━━━━━━━━━━━━━\u001b[0m\u001b[37m\u001b[0m \u001b[1m6s\u001b[0m 4ms/step - accuracy: 0.9542 - loss: 0.1605 - val_accuracy: 0.9606 - val_loss: 0.0986\n",
            "Epoch 2/5\n",
            "\u001b[1m1500/1500\u001b[0m \u001b[32m━━━━━━━━━━━━━━━━━━━━\u001b[0m\u001b[37m\u001b[0m \u001b[1m10s\u001b[0m 3ms/step - accuracy: 0.9663 - loss: 0.0915 - val_accuracy: 0.9671 - val_loss: 0.0796\n",
            "Epoch 3/5\n",
            "\u001b[1m1500/1500\u001b[0m \u001b[32m━━━━━━━━━━━━━━━━━━━━\u001b[0m\u001b[37m\u001b[0m \u001b[1m7s\u001b[0m 4ms/step - accuracy: 0.9727 - loss: 0.0721 - val_accuracy: 0.9631 - val_loss: 0.0909\n",
            "Epoch 4/5\n",
            "\u001b[1m1500/1500\u001b[0m \u001b[32m━━━━━━━━━━━━━━━━━━━━\u001b[0m\u001b[37m\u001b[0m \u001b[1m5s\u001b[0m 3ms/step - accuracy: 0.9752 - loss: 0.0660 - val_accuracy: 0.9653 - val_loss: 0.0870\n",
            "Epoch 5/5\n",
            "\u001b[1m1500/1500\u001b[0m \u001b[32m━━━━━━━━━━━━━━━━━━━━\u001b[0m\u001b[37m\u001b[0m \u001b[1m7s\u001b[0m 4ms/step - accuracy: 0.9809 - loss: 0.0556 - val_accuracy: 0.9658 - val_loss: 0.0939\n",
            "\u001b[1m313/313\u001b[0m \u001b[32m━━━━━━━━━━━━━━━━━━━━\u001b[0m\u001b[37m\u001b[0m \u001b[1m0s\u001b[0m 1ms/step - accuracy: 0.8574 - loss: 1.1652\n",
            "Test accuracy: 0.8774\n"
          ]
        }
      ]
    }
  ]
}