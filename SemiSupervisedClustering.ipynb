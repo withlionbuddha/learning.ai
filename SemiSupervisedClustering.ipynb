{
  "nbformat": 4,
  "nbformat_minor": 0,
  "metadata": {
    "colab": {
      "provenance": [],
      "authorship_tag": "ABX9TyNUAswugI5kW1dr1Zc+HDWb",
      "include_colab_link": true
    },
    "kernelspec": {
      "name": "python3",
      "display_name": "Python 3"
    },
    "language_info": {
      "name": "python"
    }
  },
  "cells": [
    {
      "cell_type": "markdown",
      "metadata": {
        "id": "view-in-github",
        "colab_type": "text"
      },
      "source": [
        "<a href=\"https://colab.research.google.com/github/withlionbuddha/learning.ai/blob/ground/SemiSupervisedClustering.ipynb\" target=\"_parent\"><img src=\"https://colab.research.google.com/assets/colab-badge.svg\" alt=\"Open In Colab\"/></a>"
      ]
    },
    {
      "cell_type": "code",
      "execution_count": 1,
      "metadata": {
        "id": "vgP_gjOpx8O4"
      },
      "outputs": [],
      "source": [
        "import numpy as np\n",
        "import matplotlib.pyplot as plt\n",
        "from sklearn import datasets\n",
        "from sklearn.metrics import adjusted_rand_score\n",
        "\n",
        "# Iris 데이터셋 로드\n",
        "iris = datasets.load_iris()\n",
        "X = iris.data[:, :2]  # 편의를 위해 2차원 데이터만 사용\n",
        "y = iris.target\n"
      ]
    },
    {
      "cell_type": "code",
      "source": [
        "# 재현성을 위해 난수 시드 설정\n",
        "np.random.seed(42)\n",
        "\n",
        "# 전체 데이터 중 10%만 레이블된 데이터로 사용\n",
        "num_total_samples = len(y)\n",
        "num_labeled_samples = int(0.1 * num_total_samples)\n",
        "indices = np.arange(num_total_samples)\n",
        "np.random.shuffle(indices)\n",
        "\n",
        "labeled_indices = indices[:num_labeled_samples]\n",
        "unlabeled_indices = indices[num_labeled_samples:]\n",
        "\n",
        "labels = np.copy(y)\n",
        "labels[unlabeled_indices] = -1  # 레이블이 없는 데이터는 -1로 표시\n"
      ],
      "metadata": {
        "id": "k6A4A01f1KgR"
      },
      "execution_count": null,
      "outputs": []
    },
    {
      "cell_type": "code",
      "source": [
        "# Label Propagation 모델 생성\n",
        "label_prop_model = LabelPropagation(kernel='knn', n_neighbors=7)\n",
        "\n",
        "# 모델 학습\n",
        "label_prop_model.fit(X, labels)\n",
        "\n",
        "# 레이블 예측\n",
        "predicted_labels = label_prop_model.transduction_\n"
      ],
      "metadata": {
        "id": "S8HFzpNE1Mh_"
      },
      "execution_count": null,
      "outputs": []
    },
    {
      "cell_type": "code",
      "source": [
        "# 평가 (Adjusted Rand Index)\n",
        "ari = adjusted_rand_score(y, predicted_labels)\n",
        "print(f\"Adjusted Rand Index (Label Propagation): {ari:.4f}\")\n",
        "\n",
        "# 시각화\n",
        "colors = ['red', 'green', 'blue']\n",
        "for class_label, color in zip(np.unique(predicted_labels), colors):\n",
        "    class_data = X[predicted_labels == class_label]\n",
        "    plt.scatter(class_data[:, 0], class_data[:, 1], c=color, label=f'Class {class_label}')\n",
        "\n",
        "plt.legend()\n",
        "plt.xlabel('Feature 1')\n",
        "plt.ylabel('Feature 2')\n",
        "plt.title('Semi-Supervised Clustering with Label Propagation')\n",
        "plt.show()\n"
      ],
      "metadata": {
        "id": "JCDCSx1W1OOJ"
      },
      "execution_count": null,
      "outputs": []
    },
    {
      "cell_type": "code",
      "source": [
        "# Label Spreading 모델 생성\n",
        "label_spread_model = LabelSpreading(kernel='knn', n_neighbors=7)\n",
        "\n",
        "# 모델 학습\n",
        "label_spread_model.fit(X, labels)\n",
        "\n",
        "# 레이블 예측\n",
        "predicted_labels_spread = label_spread_model.transduction_\n",
        "\n",
        "# 평가\n",
        "ari_spread = adjusted_rand_score(y, predicted_labels_spread)\n",
        "print(f\"Adjusted Rand Index (Label Spreading): {ari_spread:.4f}\")\n"
      ],
      "metadata": {
        "id": "4MPFTU4O1Pys"
      },
      "execution_count": null,
      "outputs": []
    },
    {
      "cell_type": "code",
      "source": [
        "# Label Spreading 모델 생성\n",
        "label_spread_model = LabelSpreading(kernel='knn', n_neighbors=7)\n",
        "\n",
        "# 모델 학습\n",
        "label_spread_model.fit(X, labels)\n",
        "\n",
        "# 레이블 예측\n",
        "predicted_labels_spread = label_spread_model.transduction_\n",
        "\n",
        "# 평가\n",
        "ari_spread = adjusted_rand_score(y, predicted_labels_spread)\n",
        "print(f\"Adjusted Rand Index (Label Spreading): {ari_spread:.4f}\")\n"
      ],
      "metadata": {
        "id": "Qfw0NS241Rya"
      },
      "execution_count": null,
      "outputs": []
    },
    {
      "cell_type": "code",
      "source": [
        "from sklearn.cluster import KMeans\n",
        "\n",
        "# K-평균 클러스터링 수행\n",
        "kmeans = KMeans(n_clusters=3, random_state=42)\n",
        "kmeans_labels = kmeans.fit_predict(X)\n",
        "\n",
        "# 평가\n",
        "kmeans_ari = adjusted_rand_score(y, kmeans_labels)\n",
        "print(f\"Adjusted Rand Index (K-Means): {kmeans_ari:.4f}\")\n"
      ],
      "metadata": {
        "id": "FuGnkNgr1Uia"
      },
      "execution_count": null,
      "outputs": []
    },
    {
      "cell_type": "code",
      "source": [
        "print(\"=== Adjusted Rand Index Scores ===\")\n",
        "print(f\"Label Propagation: {ari:.4f}\")\n",
        "print(f\"Label Spreading: {ari_spread:.4f}\")\n",
        "print(f\"K-Means (No Labels): {kmeans_ari:.4f}\")\n"
      ],
      "metadata": {
        "id": "3xAZDgGq1WQA"
      },
      "execution_count": null,
      "outputs": []
    },
    {
      "cell_type": "code",
      "source": [
        "# RBF 커널을 사용하는 Label Spreading\n",
        "label_spread_rbf = LabelSpreading(kernel='rbf', gamma=20)\n",
        "label_spread_rbf.fit(X, labels)\n",
        "predicted_labels_rbf = label_spread_rbf.transduction_\n",
        "ari_rbf = adjusted_rand_score(y, predicted_labels_rbf)\n",
        "print(f\"Adjusted Rand Index (Label Spreading with RBF Kernel): {ari_rbf:.4f}\")\n"
      ],
      "metadata": {
        "id": "oPBu4dGT1YjS"
      },
      "execution_count": null,
      "outputs": []
    }
  ]
}