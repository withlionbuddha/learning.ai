{
 "cells": [
  {
   "cell_type": "code",
   "execution_count": 3,
   "id": "09459e80-d663-401d-9bfe-81fdd8e9da17",
   "metadata": {},
   "outputs": [
    {
     "name": "stdout",
     "output_type": "stream",
     "text": [
      "Requirement already satisfied: torchvision in f:\\project\\vir-env.jupyter\\lib\\site-packages (from -r ./.external_library/requirements.txt (line 4)) (0.19.1)\n",
      "Requirement already satisfied: numpy==2.0.2 in f:\\project\\vir-env.jupyter\\lib\\site-packages (from -r ./.external_library/requirements.txt (line 7)) (2.0.2)\n",
      "Requirement already satisfied: certifi in f:\\project\\vir-env.jupyter\\lib\\site-packages (from -r ./.external_library/requirements.txt (line 9)) (2024.8.30)\n",
      "Requirement already satisfied: torch==2.4.1 in f:\\project\\vir-env.jupyter\\lib\\site-packages (from torchvision->-r ./.external_library/requirements.txt (line 4)) (2.4.1)\n",
      "Requirement already satisfied: pillow!=8.3.*,>=5.3.0 in f:\\project\\vir-env.jupyter\\lib\\site-packages (from torchvision->-r ./.external_library/requirements.txt (line 4)) (10.4.0)\n",
      "Requirement already satisfied: filelock in f:\\project\\vir-env.jupyter\\lib\\site-packages (from torch==2.4.1->torchvision->-r ./.external_library/requirements.txt (line 4)) (3.16.1)\n",
      "Requirement already satisfied: typing-extensions>=4.8.0 in f:\\project\\vir-env.jupyter\\lib\\site-packages (from torch==2.4.1->torchvision->-r ./.external_library/requirements.txt (line 4)) (4.12.2)\n",
      "Requirement already satisfied: sympy in f:\\project\\vir-env.jupyter\\lib\\site-packages (from torch==2.4.1->torchvision->-r ./.external_library/requirements.txt (line 4)) (1.13.3)\n",
      "Requirement already satisfied: networkx in f:\\project\\vir-env.jupyter\\lib\\site-packages (from torch==2.4.1->torchvision->-r ./.external_library/requirements.txt (line 4)) (3.3)\n",
      "Requirement already satisfied: jinja2 in f:\\project\\vir-env.jupyter\\lib\\site-packages (from torch==2.4.1->torchvision->-r ./.external_library/requirements.txt (line 4)) (3.1.4)\n",
      "Requirement already satisfied: fsspec in f:\\project\\vir-env.jupyter\\lib\\site-packages (from torch==2.4.1->torchvision->-r ./.external_library/requirements.txt (line 4)) (2024.9.0)\n",
      "Requirement already satisfied: setuptools in f:\\project\\vir-env.jupyter\\lib\\site-packages (from torch==2.4.1->torchvision->-r ./.external_library/requirements.txt (line 4)) (75.1.0)\n",
      "Requirement already satisfied: MarkupSafe>=2.0 in f:\\project\\vir-env.jupyter\\lib\\site-packages (from jinja2->torch==2.4.1->torchvision->-r ./.external_library/requirements.txt (line 4)) (2.1.5)\n",
      "Requirement already satisfied: mpmath<1.4,>=1.1.0 in f:\\project\\vir-env.jupyter\\lib\\site-packages (from sympy->torch==2.4.1->torchvision->-r ./.external_library/requirements.txt (line 4)) (1.3.0)\n",
      "Note: you may need to restart the kernel to use updated packages.\n"
     ]
    }
   ],
   "source": [
    "%pip install -r ./.external_library/requirements.txt  --default-timeout=150\n",
    "\n",
    "\n"
   ]
  }
 ],
 "metadata": {
  "kernelspec": {
   "display_name": "vir-env.jupyter",
   "language": "python",
   "name": "python3"
  },
  "language_info": {
   "codemirror_mode": {
    "name": "ipython",
    "version": 3
   },
   "file_extension": ".py",
   "mimetype": "text/x-python",
   "name": "python",
   "nbconvert_exporter": "python",
   "pygments_lexer": "ipython3",
   "version": "3.12.6"
  }
 },
 "nbformat": 4,
 "nbformat_minor": 5
}
