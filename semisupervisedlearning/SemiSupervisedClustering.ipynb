{
  "nbformat": 4,
  "nbformat_minor": 0,
  "metadata": {
    "colab": {
      "provenance": [],
      "authorship_tag": "ABX9TyNYTPOBGjNmZybeNJD3MX2S",
      "include_colab_link": true
    },
    "kernelspec": {
      "name": "python3",
      "display_name": "Python 3"
    },
    "language_info": {
      "name": "python"
    }
  },
  "cells": [
    {
      "cell_type": "markdown",
      "metadata": {
        "id": "view-in-github",
        "colab_type": "text"
      },
      "source": [
        "<a href=\"https://colab.research.google.com/github/withlionbuddha/learning.ai/blob/ground/semisupervisedlearning/SemiSupervisedClustering.ipynb\" target=\"_parent\"><img src=\"https://colab.research.google.com/assets/colab-badge.svg\" alt=\"Open In Colab\"/></a>"
      ]
    },
    {
      "cell_type": "markdown",
      "source": [
        "scikit-learn 공식 문서\n",
        "\n",
        "\n",
        "---\n",
        "\n",
        "논문\n",
        "*  저자 <br>\n",
        "   Xiaojin Zhu, Zoubin Ghahramani, John Lafferty\n",
        "*  제목 <br>\n",
        "   Semi-supervised learning using Gaussian fields and harmonic functions\n",
        "*  내용 <br>\n",
        "   이 논문은 반지도 학습에서 그래프 기반 방법론을 제안한 중요한 연구 중 하나입니다. 이 방법에서는 데이터 포인트를 노드로 보고, 이들 간의 관계(유사성)를 간선으로 연결한 그래프를 구축합니다. 일부 노드는 레이블이 주어지고, 나머지 레이블은 Gauss 필드와 조화 함수(harmonic function)를 사용하여 예측됩니다. 이 논문은 그래프 기반 반지도 학습의 기초가 되었으며, 이후 다양한 그래프 기반 학습 방법의 이론적 기반이 되었습니다.\n",
        "* 핵심 아이디어<br>\n",
        "  레이블 전파를 통해 레이블이 없는 데이터에 대해 레이블을 추론하는 방식으로, 데이터의 근접성이나 유사성을 기반으로 학습을 수행합니다.\n",
        "* 다운로드 <br>\n",
        "  이 논문은 arXiv(https://arxiv.org/abs/1207.4192) 에서 확인할 수 있습니다.\n",
        "\n",
        "<br>\n",
        "📚 책\n",
        "\n",
        "*   제목 <br>\n",
        "    Semi-Supervised Learning\n",
        "*  저자 <br>\n",
        "   Olivier Chapelle, Bernhard Schölkopf, Alexander Zien\n",
        "*  내용 <br>\n",
        "   이 책은 반지도 학습의 이론과 실제를 다룬 포괄적인 교과서로, 반지도 학습에 대한 중요한 이론과 알고리즘을 소개합니다. 그래프 기반 방법(graph-based methods), EM 알고리즘, 트랜스덕션(Transduction) 등 여러 반지도 학습 기법에 대해 상세하게 다룹니다. 책에서는 다양한 학습 방법과 이들의 응용 사례에 대한 내용도 포함하고 있습니다.\n",
        "* 핵심 개념 <br>\n",
        "  반지도 학습에서 레이블된 데이터가 적을 때, 비레이블된 데이터를 어떻게 활용할 것인가에 대한 논의가 핵심입니다. 또한 그래프 기반 알고리즘, SVM 등을 활용한 반지도 학습 방법들이 다루어집니다.\n",
        "* 추천 대상 <br>\n",
        "  반지도 학습을 깊이 이해하고 연구하는 연구자나 대학원생, 또는 실무에서 이를 응용하려는 사람들에게 유용한 자료입니다.\n",
        "\n",
        "\n",
        "\n",
        "\n",
        "\n",
        "\n"
      ],
      "metadata": {
        "id": "278iX8HcfIqd"
      }
    },
    {
      "cell_type": "code",
      "source": [
        "import numpy as np\n",
        "import matplotlib.pyplot as plt\n",
        "from sklearn import datasets\n",
        "from sklearn.metrics import adjusted_rand_score\n",
        "from sklearn.semi_supervised import LabelPropagation, LabelSpreading\n",
        "from sklearn.cluster import KMeans"
      ],
      "metadata": {
        "id": "zAF1yPSle2wt"
      },
      "execution_count": 6,
      "outputs": []
    },
    {
      "cell_type": "code",
      "execution_count": 7,
      "metadata": {
        "id": "vgP_gjOpx8O4"
      },
      "outputs": [],
      "source": [
        "\n",
        "# Iris 데이터셋 로드\n",
        "iris = datasets.load_iris()\n",
        "X = iris.data[:, :2]  # 편의를 위해 2차원 데이터만 사용\n",
        "y = iris.target\n"
      ]
    },
    {
      "cell_type": "code",
      "source": [
        "# 재현성을 위해 난수 시드 설정\n",
        "np.random.seed(42)\n",
        "\n",
        "# 전체 데이터 중 10%만 레이블된 데이터로 사용\n",
        "num_total_samples = len(y)\n",
        "num_labeled_samples = int(0.1 * num_total_samples)\n",
        "indices = np.arange(num_total_samples)\n",
        "np.random.shuffle(indices)\n",
        "\n",
        "labeled_indices = indices[:num_labeled_samples]\n",
        "unlabeled_indices = indices[num_labeled_samples:]\n",
        "\n",
        "labels = np.copy(y)\n",
        "labels[unlabeled_indices] = -1  # 레이블이 없는 데이터는 -1로 표시\n"
      ],
      "metadata": {
        "id": "k6A4A01f1KgR"
      },
      "execution_count": 8,
      "outputs": []
    },
    {
      "cell_type": "code",
      "source": [
        "# Label Propagation 모델 생성\n",
        "label_prop_model = LabelPropagation(kernel='knn', n_neighbors=7)\n",
        "\n",
        "# 모델 학습\n",
        "label_prop_model.fit(X, labels)\n",
        "\n",
        "# 레이블 예측\n",
        "predicted_labels = label_prop_model.transduction_\n"
      ],
      "metadata": {
        "id": "S8HFzpNE1Mh_"
      },
      "execution_count": 9,
      "outputs": []
    },
    {
      "cell_type": "code",
      "source": [
        "# 평가 (Adjusted Rand Index)\n",
        "ari = adjusted_rand_score(y, predicted_labels)\n",
        "print(f\"Adjusted Rand Index (Label Propagation): {ari:.4f}\")\n",
        "\n",
        "# 시각화\n",
        "colors = ['red', 'green', 'blue']\n",
        "for class_label, color in zip(np.unique(predicted_labels), colors):\n",
        "    class_data = X[predicted_labels == class_label]\n",
        "    plt.scatter(class_data[:, 0], class_data[:, 1], c=color, label=f'Class {class_label}')\n",
        "\n",
        "plt.legend()\n",
        "plt.xlabel('Feature 1')\n",
        "plt.ylabel('Feature 2')\n",
        "plt.title('Semi-Supervised Clustering with Label Propagation')\n",
        "plt.show()\n"
      ],
      "metadata": {
        "id": "JCDCSx1W1OOJ",
        "colab": {
          "base_uri": "https://localhost:8080/",
          "height": 489
        },
        "outputId": "d6330fd9-82bd-44a0-9432-3f9c4cea0928"
      },
      "execution_count": 10,
      "outputs": [
        {
          "output_type": "stream",
          "name": "stdout",
          "text": [
            "Adjusted Rand Index (Label Propagation): 0.5395\n"
          ]
        },
        {
          "output_type": "display_data",
          "data": {
            "text/plain": [
              "<Figure size 640x480 with 1 Axes>"
            ],
            "image/png": "[encoded data removed]"
          },
          "metadata": {}
        }
      ]
    },
    {
      "cell_type": "code",
      "source": [
        "# Label Spreading 모델 생성\n",
        "label_spread_model = LabelSpreading(kernel='knn', n_neighbors=7)\n",
        "\n",
        "# 모델 학습\n",
        "label_spread_model.fit(X, labels)\n",
        "\n",
        "# 레이블 예측\n",
        "predicted_labels_spread = label_spread_model.transduction_\n",
        "\n",
        "# 평가\n",
        "ari_spread = adjusted_rand_score(y, predicted_labels_spread)\n",
        "print(f\"Adjusted Rand Index (Label Spreading): {ari_spread:.4f}\")\n"
      ],
      "metadata": {
        "id": "4MPFTU4O1Pys",
        "colab": {
          "base_uri": "https://localhost:8080/"
        },
        "outputId": "a29e98dc-6d52-418f-a1e2-655e8b03e74b"
      },
      "execution_count": 11,
      "outputs": [
        {
          "output_type": "stream",
          "name": "stdout",
          "text": [
            "Adjusted Rand Index (Label Spreading): 0.5081\n"
          ]
        }
      ]
    },
    {
      "cell_type": "code",
      "source": [
        "# Label Spreading 모델 생성\n",
        "label_spread_model = LabelSpreading(kernel='knn', n_neighbors=7)\n",
        "\n",
        "# 모델 학습\n",
        "label_spread_model.fit(X, labels)\n",
        "\n",
        "# 레이블 예측\n",
        "predicted_labels_spread = label_spread_model.transduction_\n",
        "\n",
        "# 평가\n",
        "ari_spread = adjusted_rand_score(y, predicted_labels_spread)\n",
        "print(f\"Adjusted Rand Index (Label Spreading): {ari_spread:.4f}\")\n"
      ],
      "metadata": {
        "id": "Qfw0NS241Rya",
        "colab": {
          "base_uri": "https://localhost:8080/"
        },
        "outputId": "d365a214-5d92-4291-d07a-0fc65f6c0d5b"
      },
      "execution_count": 12,
      "outputs": [
        {
          "output_type": "stream",
          "name": "stdout",
          "text": [
            "Adjusted Rand Index (Label Spreading): 0.5081\n"
          ]
        }
      ]
    },
    {
      "cell_type": "code",
      "source": [
        "from sklearn.cluster import KMeans\n",
        "\n",
        "# K-평균 클러스터링 수행\n",
        "kmeans = KMeans(n_clusters=3, random_state=42)\n",
        "kmeans_labels = kmeans.fit_predict(X)\n",
        "\n",
        "# 평가\n",
        "kmeans_ari = adjusted_rand_score(y, kmeans_labels)\n",
        "print(f\"Adjusted Rand Index (K-Means): {kmeans_ari:.4f}\")\n"
      ],
      "metadata": {
        "id": "FuGnkNgr1Uia",
        "colab": {
          "base_uri": "https://localhost:8080/"
        },
        "outputId": "58812ded-19ac-424c-fc60-b708773bbecc"
      },
      "execution_count": 13,
      "outputs": [
        {
          "output_type": "stream",
          "name": "stdout",
          "text": [
            "Adjusted Rand Index (K-Means): 0.6007\n"
          ]
        },
        {
          "output_type": "stream",
          "name": "stderr",
          "text": [
            "/usr/local/lib/python3.10/dist-packages/sklearn/cluster/_kmeans.py:1416: FutureWarning: The default value of `n_init` will change from 10 to 'auto' in 1.4. Set the value of `n_init` explicitly to suppress the warning\n",
            "  super()._check_params_vs_input(X, default_n_init=10)\n"
          ]
        }
      ]
    },
    {
      "cell_type": "code",
      "source": [
        "print(\"=== Adjusted Rand Index Scores ===\")\n",
        "print(f\"Label Propagation: {ari:.4f}\")\n",
        "print(f\"Label Spreading: {ari_spread:.4f}\")\n",
        "print(f\"K-Means (No Labels): {kmeans_ari:.4f}\")\n"
      ],
      "metadata": {
        "id": "3xAZDgGq1WQA",
        "colab": {
          "base_uri": "https://localhost:8080/"
        },
        "outputId": "cf7a7959-db22-429a-9597-a0a84cd12d87"
      },
      "execution_count": 14,
      "outputs": [
        {
          "output_type": "stream",
          "name": "stdout",
          "text": [
            "=== Adjusted Rand Index Scores ===\n",
            "Label Propagation: 0.5395\n",
            "Label Spreading: 0.5081\n",
            "K-Means (No Labels): 0.6007\n"
          ]
        }
      ]
    },
    {
      "cell_type": "code",
      "source": [
        "# RBF 커널을 사용하는 Label Spreading\n",
        "label_spread_rbf = LabelSpreading(kernel='rbf', gamma=20)\n",
        "label_spread_rbf.fit(X, labels)\n",
        "predicted_labels_rbf = label_spread_rbf.transduction_\n",
        "ari_rbf = adjusted_rand_score(y, predicted_labels_rbf)\n",
        "print(f\"Adjusted Rand Index (Label Spreading with RBF Kernel): {ari_rbf:.4f}\")\n"
      ],
      "metadata": {
        "id": "oPBu4dGT1YjS",
        "colab": {
          "base_uri": "https://localhost:8080/"
        },
        "outputId": "f065dfcd-8d55-4839-a2bb-b61a453880b9"
      },
      "execution_count": 15,
      "outputs": [
        {
          "output_type": "stream",
          "name": "stdout",
          "text": [
            "Adjusted Rand Index (Label Spreading with RBF Kernel): 0.5195\n"
          ]
        }
      ]
    }
  ]
}