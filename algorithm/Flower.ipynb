{
 "cells": [
  {
   "cell_type": "code",
   "execution_count": 3,
   "id": "2d68429e-9d75-488b-9352-16be8ec6820c",
   "metadata": {},
   "outputs": [],
   "source": [
    "from dataclasses import dataclass"
   ]
  },
  {
   "cell_type": "code",
   "execution_count": 4,
   "id": "83bd936b-66a4-4797-aef5-7c0db1a7a54a",
   "metadata": {},
   "outputs": [],
   "source": [
    "@dataclass\n",
    "class Flower:\n",
    "    variety: str = None                # 품종명\n",
    "    scientific_name: str = None        # 학명\n",
    "    korean_name: str = None            # 한글명\n",
    "    english_name: str = None           # 영문명\n",
    "    chinese_name: str = None           # 한문명\n",
    "    color: str = None                  # 색상\n",
    "    petal_count: int = None            # 꽃잎 수\n",
    "    petal_length_mean: float = None    # 꽃잎 길이 평균(cm)\n",
    "    petal_length_std: float = None     # 꽃잎 길이 표준편차(cm)\n",
    "    petal_width_mean: float = None     # 꽃잎 넓이 평균(cm)\n",
    "    petal_width_std: float = None      # 꽃잎 넓이 표준편차(cm)\n",
    "    flower_shape: str = None           # 꽃의 모양 특징\n",
    "\n",
    "    def __str__(self):\n",
    "        return (\n",
    "            f\"품종명: {self.variety}\\n\"\n",
    "            f\"학명: {self.scientific_name}\\n\"\n",
    "            f\"한글명: {self.korean_name}\\n\"\n",
    "            f\"영문명: {self.english_name}\\n\"\n",
    "            f\"한문명: {self.chinese_name}\\n\"\n",
    "            f\"색상: {self.color}\\n\"\n",
    "            f\"꽃잎 수: {self.petal_count}\\n\"\n",
    "            f\"꽃잎 길이 평균(cm): {self.petal_length_mean}\\n\"\n",
    "            f\"꽃잎 길이 표준편차(cm): {self.petal_length_std}\\n\"\n",
    "            f\"꽃잎 넓이 평균(cm): {self.petal_width_mean}\\n\"\n",
    "            f\"꽃잎 넓이 표준편차(cm): {self.petal_width_std}\\n\"\n",
    "            f\"꽃의 모양 특징: {self.flower_shape}\"\n",
    "        )"
   ]
  },
  {
   "cell_type": "code",
   "execution_count": null,
   "id": "202e0656-51b3-40dc-bf8c-dbad29f469ce",
   "metadata": {},
   "outputs": [],
   "source": []
  }
 ],
 "metadata": {
  "kernelspec": {
   "display_name": "Python 3 (ipykernel)",
   "language": "python",
   "name": "python3"
  },
  "language_info": {
   "codemirror_mode": {
    "name": "ipython",
    "version": 3
   },
   "file_extension": ".py",
   "mimetype": "text/x-python",
   "name": "python",
   "nbconvert_exporter": "python",
   "pygments_lexer": "ipython3",
   "version": "3.12.6"
  }
 },
 "nbformat": 4,
 "nbformat_minor": 5
}
