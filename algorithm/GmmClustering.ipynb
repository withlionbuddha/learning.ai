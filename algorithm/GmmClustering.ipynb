{
 "cells": [
  {
   "cell_type": "code",
   "execution_count": 1,
   "id": "5bafb2ad",
   "metadata": {},
   "outputs": [
    {
     "name": "stdout",
     "output_type": "stream",
     "text": [
      "Requirement already satisfied: scikit-learn in f:\\project\\vir-env.jupyter\\lib\\site-packages (1.5.2)\n",
      "Requirement already satisfied: numpy>=1.19.5 in f:\\project\\vir-env.jupyter\\lib\\site-packages (from scikit-learn) (1.26.4)\n",
      "Requirement already satisfied: scipy>=1.6.0 in f:\\project\\vir-env.jupyter\\lib\\site-packages (from scikit-learn) (1.14.1)\n",
      "Requirement already satisfied: joblib>=1.2.0 in f:\\project\\vir-env.jupyter\\lib\\site-packages (from scikit-learn) (1.4.2)\n",
      "Requirement already satisfied: threadpoolctl>=3.1.0 in f:\\project\\vir-env.jupyter\\lib\\site-packages (from scikit-learn) (3.5.0)\n",
      "Note: you may need to restart the kernel to use updated packages.\n",
      "Requirement already satisfied: numpy in f:\\project\\vir-env.jupyter\\lib\\site-packages (1.26.4)\n",
      "Note: you may need to restart the kernel to use updated packages.\n",
      "Requirement already satisfied: scipy in f:\\project\\vir-env.jupyter\\lib\\site-packages (1.14.1)\n",
      "Requirement already satisfied: numpy<2.3,>=1.23.5 in f:\\project\\vir-env.jupyter\\lib\\site-packages (from scipy) (1.26.4)\n",
      "Note: you may need to restart the kernel to use updated packages.\n"
     ]
    }
   ],
   "source": [
    "%pip install scikit-learn\n",
    "%pip install numpy\n",
    "%pip install scipy"
   ]
  },
  {
   "cell_type": "code",
   "execution_count": 2,
   "id": "4e62426c",
   "metadata": {},
   "outputs": [],
   "source": [
    "import numpy as np\n",
    "from sklearn.mixture import GaussianMixture\n",
    "from sklearn.preprocessing import StandardScaler\n",
    "from sklearn.metrics import accuracy_score, confusion_matrix\n",
    "from scipy.stats import mode"
   ]
  },
  {
   "cell_type": "code",
   "execution_count": 3,
   "id": "91489fe4-f13e-44c7-ade8-aa03ccb8cc6d",
   "metadata": {},
   "outputs": [],
   "source": [
    "class GMMClustering:\n",
    "    def __init__(self, n_components=3, covariance_type='full', random_state=42):\n",
    "        self.n_components = n_components\n",
    "        self.covariance_type = covariance_type\n",
    "        self.random_state = random_state\n",
    "        self.gmm = GaussianMixture(n_components=self.n_components, covariance_type=self.covariance_type, random_state=self.random_state)\n",
    "        self.scaler = StandardScaler()\n",
    "\n",
    "    def fit(self, X):\n",
    "        self.X_scaled = self.scaler.fit_transform(X)\n",
    "        self.gmm.fit(self.X_scaled)\n",
    "        self.labels = self.gmm.predict(self.X_scaled)\n",
    "        return self.labels\n",
    "\n",
    "    def adjust_labels(self, y_true):\n",
    "        labels = np.zeros_like(self.labels)\n",
    "        for i in np.unique(self.labels):\n",
    "            mask = (self.labels == i)\n",
    "            labels[mask] = mode(y_true[mask], keepdims=True)[0][0]\n",
    "        self.labels_adjusted = labels\n",
    "        return self.labels_adjusted\n",
    "\n",
    "    def calculate_accuracy(self, y_true):\n",
    "        accuracy = accuracy_score(y_true, self.labels_adjusted)\n",
    "        return accuracy\n",
    "\n",
    "    def get_confusion_matrix(self, y_true):\n",
    "        cm = confusion_matrix(y_true, self.labels_adjusted)\n",
    "        return cm\n",
    "\n",
    "    def get_scaled_data(self):\n",
    "        return self.X_scaled\n"
   ]
  },
  {
   "cell_type": "code",
   "execution_count": null,
   "id": "166b3f0e-6d4e-4794-8cbb-f883a0dbf8af",
   "metadata": {},
   "outputs": [],
   "source": []
  }
 ],
 "metadata": {
  "kernelspec": {
   "display_name": "Python 3 (ipykernel)",
   "language": "python",
   "name": "python3"
  },
  "language_info": {
   "codemirror_mode": {
    "name": "ipython",
    "version": 3
   },
   "file_extension": ".py",
   "mimetype": "text/x-python",
   "name": "python",
   "nbconvert_exporter": "python",
   "pygments_lexer": "ipython3",
   "version": "3.12.6"
  }
 },
 "nbformat": 4,
 "nbformat_minor": 5
}
