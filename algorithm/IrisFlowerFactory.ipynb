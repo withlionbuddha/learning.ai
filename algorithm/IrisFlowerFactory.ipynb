{
 "cells": [
  {
   "cell_type": "code",
   "execution_count": null,
   "id": "4e308318",
   "metadata": {},
   "outputs": [],
   "source": []
  },
  {
   "cell_type": "code",
   "execution_count": 3,
   "id": "815faae9-0e9a-4a74-8ff1-2cf355cf8484",
   "metadata": {},
   "outputs": [],
   "source": [
    "import numpy as np\n",
    "from sklearn import datasets\n",
    "from IrisFlower import IrisFlower"
   ]
  },
  {
   "cell_type": "code",
   "execution_count": null,
   "id": "5b1474c7-e416-4b74-b156-28b90b6b3cb4",
   "metadata": {},
   "outputs": [],
   "source": [
    "class IrisFlowerFactory:\n",
    "    def __init__(self):\n",
    "        self.iris_flowers = []\n",
    "        self.load_data()\n",
    "\n",
    "    def load_data(self):\n",
    "        # Iris 데이터셋 로드\n",
    "        iris = datasets.load_iris()\n",
    "        X = iris.data\n",
    "        y_true = iris.target\n",
    "        varieties = iris.target_names\n",
    "\n",
    "        # 품종별로 IrisFlower 객체 생성\n",
    "        for i, variety in enumerate(varieties):\n",
    "            petal_lengths = X[y_true == i, 2]  # 꽃잎 길이\n",
    "            petal_widths = X[y_true == i, 3]   # 꽃잎 넓이\n",
    "\n",
    "            petal_length_mean = np.mean(petal_lengths)\n",
    "            petal_length_std = np.std(petal_lengths)\n",
    "            petal_width_mean = np.mean(petal_widths)\n",
    "            petal_width_std = np.std(petal_widths)\n",
    "\n",
    "            iris_flower = IrisFlower(\n",
    "                variety=variety,\n",
    "                petal_length_mean=petal_length_mean,\n",
    "                petal_length_std=petal_length_std,\n",
    "                petal_width_mean=petal_width_mean,\n",
    "                petal_width_std=petal_width_std\n",
    "            )\n",
    "\n",
    "            self.iris_flowers.append(iris_flower)\n",
    "\n",
    "    def get_iris_flowers(self):\n",
    "        return self.iris_flowers\n"
   ]
  }
 ],
 "metadata": {
  "kernelspec": {
   "display_name": "Python 3 (ipykernel)",
   "language": "python",
   "name": "python3"
  },
  "language_info": {
   "codemirror_mode": {
    "name": "ipython",
    "version": 3
   },
   "file_extension": ".py",
   "mimetype": "text/x-python",
   "name": "python",
   "nbconvert_exporter": "python",
   "pygments_lexer": "ipython3",
   "version": "3.12.6"
  }
 },
 "nbformat": 4,
 "nbformat_minor": 5
}
