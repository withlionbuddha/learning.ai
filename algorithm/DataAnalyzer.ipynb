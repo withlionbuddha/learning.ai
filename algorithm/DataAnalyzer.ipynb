{
 "cells": [
  {
   "cell_type": "code",
   "execution_count": 1,
   "metadata": {},
   "outputs": [
    {
     "name": "stdout",
     "output_type": "stream",
     "text": [
      "Requirement already satisfied: pandas in f:\\project\\vir-env.jupyter\\lib\\site-packages (2.2.3)\n",
      "Requirement already satisfied: numpy>=1.26.0 in f:\\project\\vir-env.jupyter\\lib\\site-packages (from pandas) (1.26.4)\n",
      "Requirement already satisfied: python-dateutil>=2.8.2 in f:\\project\\vir-env.jupyter\\lib\\site-packages (from pandas) (2.9.0.post0)\n",
      "Requirement already satisfied: pytz>=2020.1 in f:\\project\\vir-env.jupyter\\lib\\site-packages (from pandas) (2024.2)\n",
      "Requirement already satisfied: tzdata>=2022.7 in f:\\project\\vir-env.jupyter\\lib\\site-packages (from pandas) (2024.1)\n",
      "Requirement already satisfied: six>=1.5 in f:\\project\\vir-env.jupyter\\lib\\site-packages (from python-dateutil>=2.8.2->pandas) (1.16.0)\n",
      "Note: you may need to restart the kernel to use updated packages.\n"
     ]
    }
   ],
   "source": [
    "%pip install pandas\n"
   ]
  },
  {
   "cell_type": "code",
   "execution_count": 2,
   "metadata": {},
   "outputs": [],
   "source": [
    "import pandas as pd"
   ]
  },
  {
   "cell_type": "code",
   "execution_count": 3,
   "metadata": {},
   "outputs": [],
   "source": [
    "class DataAnalyzer:\n",
    "    def __init__(self, X, y_true):\n",
    "        self.X = X\n",
    "        self.y_true = y_true\n",
    "        self.df = None\n",
    "\n",
    "    def create_dataframe(self, iris):\n",
    "        # Iris 데이터셋의 feature names 가져오기\n",
    "        feature_names = iris.feature_names\n",
    "\n",
    "        # pandas DataFrame으로 변환\n",
    "        pd.set_option('display.width', 1000)\n",
    "        pd.set_option('display.max_rows', 10)\n",
    "        pd.set_option('display.max_columns', None)\n",
    "        pd.set_option('display.expand_frame_repr', False)\n",
    "        pd.set_option('display.colheader_justify', 'left')\n",
    "        self.df = pd.DataFrame(data=self.X, columns=feature_names)\n",
    "        \n",
    "        # 타겟(종류)을 추가\n",
    "        self.df['species'] = self.y_true\n",
    "\n",
    "        # species 컬럼의 숫자를 실제 품종 이름으로 매핑\n",
    "        self.df['species'] = self.df['species'].map({0: 'setosa', 1: 'versicolor', 2: 'virginica'})\n",
    "\n",
    "    def analyze_data(self):\n",
    "        if self.df is None:\n",
    "            raise ValueError(\"DataFrame이 생성되지 않았습니다. 먼저 create_dataframe() 메서드를 호출하세요.\")\n",
    "\n",
    "        # 데이터 검증 및 분석 (예: 데이터 요약 정보 출력)\n",
    "        print(\"----- DataFrame Info ----]\")\n",
    "        print(self.df.info().to_string())\n",
    "        print(\"\\n [---- DataFrame Descibe ----]\")\n",
    "        print(self.df.describe().to_string())\n",
    "        print(\"\\n[----  5 Rows ----]\")\n",
    "        print(self.df.head().to_string())\n",
    "\n"
   ]
  },
  {
   "cell_type": "code",
   "execution_count": null,
   "metadata": {},
   "outputs": [],
   "source": []
  }
 ],
 "metadata": {
  "kernelspec": {
   "display_name": "Python 3 (ipykernel)",
   "language": "python",
   "name": "python3"
  },
  "language_info": {
   "codemirror_mode": {
    "name": "ipython",
    "version": 3
   },
   "file_extension": ".py",
   "mimetype": "text/x-python",
   "name": "python",
   "nbconvert_exporter": "python",
   "pygments_lexer": "ipython3",
   "version": "3.12.6"
  }
 },
 "nbformat": 4,
 "nbformat_minor": 4
}
