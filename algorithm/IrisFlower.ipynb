{
 "cells": [
  {
   "cell_type": "code",
   "execution_count": 1,
   "id": "b4b589ff-be83-429f-8baa-0ad987f1bdb9",
   "metadata": {},
   "outputs": [],
   "source": [
    "from dataclasses import dataclass  \n",
    "from Flower import Flower"
   ]
  },
  {
   "cell_type": "code",
   "execution_count": 2,
   "id": "2f6b196a-a4e7-49f7-b569-8018bdfb14ef",
   "metadata": {},
   "outputs": [],
   "source": [
    "@dataclass\n",
    "class IrisFlower(Flower):\n",
    "    def __init__(self, variety, petal_length_mean, petal_length_std, petal_width_mean, petal_width_std):\n",
    "        super().__init__(\n",
    "            variety=variety,\n",
    "            scientific_name=\"Iris\",      # 학명\n",
    "            korean_name=\"붓꽃\",           # 한글명\n",
    "            english_name=\"Iris\",         # 영문명\n",
    "            chinese_name=\"鳶尾花\",        # 한문명\n",
    "            color=\"Various\",             # 색상\n",
    "            petal_count=6,               # 꽃잎 수\n",
    "            petal_length_mean=petal_length_mean,\n",
    "            petal_length_std=petal_length_std,\n",
    "            petal_width_mean=petal_width_mean,\n",
    "            petal_width_std=petal_width_std,\n",
    "            flower_shape=\"Radial symmetry\"  # 꽃의 모양 특징\n",
    "        )\n"
   ]
  }
 ],
 "metadata": {
  "kernelspec": {
   "display_name": "Python 3 (ipykernel)",
   "language": "python",
   "name": "python3"
  },
  "language_info": {
   "codemirror_mode": {
    "name": "ipython",
    "version": 3
   },
   "file_extension": ".py",
   "mimetype": "text/x-python",
   "name": "python",
   "nbconvert_exporter": "python",
   "pygments_lexer": "ipython3",
   "version": "3.12.6"
  }
 },
 "nbformat": 4,
 "nbformat_minor": 5
}
