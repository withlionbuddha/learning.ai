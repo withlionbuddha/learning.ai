{
  "nbformat": 4,
  "nbformat_minor": 0,
  "metadata": {
    "colab": {
      "provenance": [],
      "authorship_tag": "ABX9TyNTGc5w8lX5Tbk0Y9FoT06f",
      "include_colab_link": true
    },
    "kernelspec": {
      "name": "python3",
      "display_name": "Python 3"
    },
    "language_info": {
      "name": "python"
    }
  },
  "cells": [
    {
      "cell_type": "markdown",
      "metadata": {
        "id": "view-in-github",
        "colab_type": "text"
      },
      "source": [
        "<a href=\"https://colab.research.google.com/github/withlionbuddha/learning.ai/blob/ground/SemiSupervisedLearning.ipynb\" target=\"_parent\"><img src=\"https://colab.research.google.com/assets/colab-badge.svg\" alt=\"Open In Colab\"/></a>"
      ]
    },
    {
      "cell_type": "markdown",
      "source": [
        "😄 반지도 학습(semisupervised Learning)\n",
        "---\n",
        "\n",
        "분류 문제에서 label이 없는 학습데이터를 입력값으로 받아서 unsupervised learning 의 clustering 으로 군집화 한후 이것의 출력값을 입력값으로 받아 10가지의 label 된 이미지를 참조하여 분류하는 model을 설계가 가능한가요?\n",
        "\n",
        "반지도 학습(Semi Supervised Learning)으로 가능합니다.\n",
        "비지도 학습(Unsupervised Clustering)\n",
        "지도 학습(Supervised Classification)\n"
      ],
      "metadata": {
        "id": "6ZBmmflSgJxQ"
      }
    },
    {
      "cell_type": "markdown",
      "source": [
        "\n",
        "\n",
        "---\n",
        "\n"
      ],
      "metadata": {
        "id": "bqFWkOe_gTdK"
      }
    },
    {
      "cell_type": "code",
      "execution_count": null,
      "metadata": {
        "id": "4JTFz5HNgCbL"
      },
      "outputs": [],
      "source": []
    }
  ]
}