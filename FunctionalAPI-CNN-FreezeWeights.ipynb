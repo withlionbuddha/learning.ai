{
  "nbformat": 4,
  "nbformat_minor": 0,
  "metadata": {
    "colab": {
      "provenance": [],
      "authorship_tag": "ABX9TyNEZLxiEKq/YNArNoePXPS8",
      "include_colab_link": true
    },
    "kernelspec": {
      "name": "python3",
      "display_name": "Python 3"
    },
    "language_info": {
      "name": "python"
    }
  },
  "cells": [
    {
      "cell_type": "markdown",
      "metadata": {
        "id": "view-in-github",
        "colab_type": "text"
      },
      "source": [
        "<a href=\"https://colab.research.google.com/github/withlionbuddha/learning.ai/blob/ground/FunctionalAPI-CNN-FreezeWeights.ipynb\" target=\"_parent\"><img src=\"https://colab.research.google.com/assets/colab-badge.svg\" alt=\"Open In Colab\"/></a>"
      ]
    },
    {
      "cell_type": "markdown",
      "source": [
        "📚\n",
        "가중치 고정(Freeze Weights) <br>\n",
        "기존 모델의 특정 레이어(주로 하위 레이어)의 가중치를 고정하고, 새로운 데이터셋에 대해 상위 레이어만 학습하는 방식입니다. 하위 레이어는 일반적인 특징(예: 엣지, 질감 등)을 추출하고, 상위 레이어는 더 구체적인 패턴을 학습합니다."
      ],
      "metadata": {
        "id": "dFrPBFahBZax"
      }
    },
    {
      "cell_type": "code",
      "source": [],
      "metadata": {
        "id": "ml2NnASofNw6"
      },
      "execution_count": null,
      "outputs": []
    },
    {
      "cell_type": "markdown",
      "source": [
        "📚\n",
        "\n",
        "예시: 이미지 분류 모델\n",
        "\n",
        "기존 모델: ImageNet 데이터셋에서 사전 학습된 ResNet 같은 대형 CNN 모델.\n",
        "새로운 데이터셋: 고양이와 개 이미지를 분류하는 소규모 데이터셋.\n",
        "\n",
        "절차:\n",
        "\n",
        "모델의 **하위 레이어(초기 레이어)**에서 이미지의 기본적인 특징(엣지, 텍스처 등)을 추출하는데 이미 충분히 학습되었으므로, 이를 고정하고 가중치를 업데이트하지 않음.\n",
        "상위 레이어에서 새로운 데이터셋에 맞춘 학습을 진행해, 고양이와 개의 고유한 특징을 학습.\n",
        "이점:\n",
        "\n",
        "연산 비용이 절약되며, 적은 양의 데이터로도 높은 성능을 얻을 수 있습니다.\n",
        "모델의 일반화 능력이 유지되며, 기존에 학습된 일반적인 특징을 활용할 수 있습니다."
      ],
      "metadata": {
        "id": "5olBah95B8GG"
      }
    },
    {
      "cell_type": "code",
      "execution_count": 1,
      "metadata": {
        "id": "59Us_5Cn21-E"
      },
      "outputs": [],
      "source": [
        "import tensorflow as tf\n",
        "from tensorflow.keras.applications import ResNet50\n",
        "from tensorflow.keras.layers import Dense, GlobalAveragePooling2D\n",
        "from tensorflow.keras.models import Model"
      ]
    },
    {
      "cell_type": "code",
      "source": [],
      "metadata": {
        "id": "b5Yp3EJ4Bx_T"
      },
      "execution_count": null,
      "outputs": []
    },
    {
      "cell_type": "markdown",
      "source": [
        "📚 아래의 코드 설명\n",
        "\n",
        "*   weights='imagenet'는 transfer learnig 에서 사전 학습된 가중치를 불러오기 위한 설정\n",
        "*   include_top=False는 상단의 fully-connected layer를 제거한다는 의미\n"
      ],
      "metadata": {
        "id": "AWIPWbcW4GCO"
      }
    },
    {
      "cell_type": "code",
      "source": [
        "# ResNet50 모델을 불러오고 ImageNet에서 학습된 가중치를 사용\n",
        "base_model = ResNet50(weights='imagenet', include_top=False)"
      ],
      "metadata": {
        "colab": {
          "base_uri": "https://localhost:8080/"
        },
        "id": "P22As-ru3KaY",
        "outputId": "427f8e1a-3799-4203-fd80-6c37a4330e6e"
      },
      "execution_count": 2,
      "outputs": [
        {
          "output_type": "stream",
          "name": "stdout",
          "text": [
            "Downloading data from https://storage.googleapis.com/tensorflow/keras-applications/resnet/resnet50_weights_tf_dim_ordering_tf_kernels_notop.h5\n",
            "\u001b[1m94765736/94765736\u001b[0m \u001b[32m━━━━━━━━━━━━━━━━━━━━\u001b[0m\u001b[37m\u001b[0m \u001b[1m1s\u001b[0m 0us/step\n"
          ]
        }
      ]
    },
    {
      "cell_type": "markdown",
      "source": [],
      "metadata": {
        "id": "Tph8KYMY7_LQ"
      }
    },
    {
      "cell_type": "code",
      "source": [
        "base_model"
      ],
      "metadata": {
        "colab": {
          "base_uri": "https://localhost:8080/"
        },
        "id": "eucSWOxk42Ct",
        "outputId": "96e01b86-ba6e-4393-afba-ab14eaae64ac"
      },
      "execution_count": 3,
      "outputs": [
        {
          "output_type": "execute_result",
          "data": {
            "text/plain": [
              "<Functional name=resnet50, built=True>"
            ]
          },
          "metadata": {},
          "execution_count": 3
        }
      ]
    },
    {
      "cell_type": "markdown",
      "source": [
        "📚 아래의 코드 설명\n",
        "\n",
        "*   base_model.layers 는 base_model의 layer 속성\n"
      ],
      "metadata": {
        "id": "2o4vuKt08ZxK"
      }
    },
    {
      "cell_type": "code",
      "source": [
        "base_model.layers"
      ],
      "metadata": {
        "colab": {
          "base_uri": "https://localhost:8080/"
        },
        "id": "EUJtjQ4i48P5",
        "outputId": "cf2cb1c1-beea-486c-fb19-4596c626e3dd"
      },
      "execution_count": 4,
      "outputs": [
        {
          "output_type": "execute_result",
          "data": {
            "text/plain": [
              "[<InputLayer name=input_layer, built=True>,\n",
              " <ZeroPadding2D name=conv1_pad, built=True>,\n",
              " <Conv2D name=conv1_conv, built=True>,\n",
              " <BatchNormalization name=conv1_bn, built=True>,\n",
              " <Activation name=conv1_relu, built=True>,\n",
              " <ZeroPadding2D name=pool1_pad, built=True>,\n",
              " <MaxPooling2D name=pool1_pool, built=True>,\n",
              " <Conv2D name=conv2_block1_1_conv, built=True>,\n",
              " <BatchNormalization name=conv2_block1_1_bn, built=True>,\n",
              " <Activation name=conv2_block1_1_relu, built=True>,\n",
              " <Conv2D name=conv2_block1_2_conv, built=True>,\n",
              " <BatchNormalization name=conv2_block1_2_bn, built=True>,\n",
              " <Activation name=conv2_block1_2_relu, built=True>,\n",
              " <Conv2D name=conv2_block1_0_conv, built=True>,\n",
              " <Conv2D name=conv2_block1_3_conv, built=True>,\n",
              " <BatchNormalization name=conv2_block1_0_bn, built=True>,\n",
              " <BatchNormalization name=conv2_block1_3_bn, built=True>,\n",
              " <Add name=conv2_block1_add, built=True>,\n",
              " <Activation name=conv2_block1_out, built=True>,\n",
              " <Conv2D name=conv2_block2_1_conv, built=True>,\n",
              " <BatchNormalization name=conv2_block2_1_bn, built=True>,\n",
              " <Activation name=conv2_block2_1_relu, built=True>,\n",
              " <Conv2D name=conv2_block2_2_conv, built=True>,\n",
              " <BatchNormalization name=conv2_block2_2_bn, built=True>,\n",
              " <Activation name=conv2_block2_2_relu, built=True>,\n",
              " <Conv2D name=conv2_block2_3_conv, built=True>,\n",
              " <BatchNormalization name=conv2_block2_3_bn, built=True>,\n",
              " <Add name=conv2_block2_add, built=True>,\n",
              " <Activation name=conv2_block2_out, built=True>,\n",
              " <Conv2D name=conv2_block3_1_conv, built=True>,\n",
              " <BatchNormalization name=conv2_block3_1_bn, built=True>,\n",
              " <Activation name=conv2_block3_1_relu, built=True>,\n",
              " <Conv2D name=conv2_block3_2_conv, built=True>,\n",
              " <BatchNormalization name=conv2_block3_2_bn, built=True>,\n",
              " <Activation name=conv2_block3_2_relu, built=True>,\n",
              " <Conv2D name=conv2_block3_3_conv, built=True>,\n",
              " <BatchNormalization name=conv2_block3_3_bn, built=True>,\n",
              " <Add name=conv2_block3_add, built=True>,\n",
              " <Activation name=conv2_block3_out, built=True>,\n",
              " <Conv2D name=conv3_block1_1_conv, built=True>,\n",
              " <BatchNormalization name=conv3_block1_1_bn, built=True>,\n",
              " <Activation name=conv3_block1_1_relu, built=True>,\n",
              " <Conv2D name=conv3_block1_2_conv, built=True>,\n",
              " <BatchNormalization name=conv3_block1_2_bn, built=True>,\n",
              " <Activation name=conv3_block1_2_relu, built=True>,\n",
              " <Conv2D name=conv3_block1_0_conv, built=True>,\n",
              " <Conv2D name=conv3_block1_3_conv, built=True>,\n",
              " <BatchNormalization name=conv3_block1_0_bn, built=True>,\n",
              " <BatchNormalization name=conv3_block1_3_bn, built=True>,\n",
              " <Add name=conv3_block1_add, built=True>,\n",
              " <Activation name=conv3_block1_out, built=True>,\n",
              " <Conv2D name=conv3_block2_1_conv, built=True>,\n",
              " <BatchNormalization name=conv3_block2_1_bn, built=True>,\n",
              " <Activation name=conv3_block2_1_relu, built=True>,\n",
              " <Conv2D name=conv3_block2_2_conv, built=True>,\n",
              " <BatchNormalization name=conv3_block2_2_bn, built=True>,\n",
              " <Activation name=conv3_block2_2_relu, built=True>,\n",
              " <Conv2D name=conv3_block2_3_conv, built=True>,\n",
              " <BatchNormalization name=conv3_block2_3_bn, built=True>,\n",
              " <Add name=conv3_block2_add, built=True>,\n",
              " <Activation name=conv3_block2_out, built=True>,\n",
              " <Conv2D name=conv3_block3_1_conv, built=True>,\n",
              " <BatchNormalization name=conv3_block3_1_bn, built=True>,\n",
              " <Activation name=conv3_block3_1_relu, built=True>,\n",
              " <Conv2D name=conv3_block3_2_conv, built=True>,\n",
              " <BatchNormalization name=conv3_block3_2_bn, built=True>,\n",
              " <Activation name=conv3_block3_2_relu, built=True>,\n",
              " <Conv2D name=conv3_block3_3_conv, built=True>,\n",
              " <BatchNormalization name=conv3_block3_3_bn, built=True>,\n",
              " <Add name=conv3_block3_add, built=True>,\n",
              " <Activation name=conv3_block3_out, built=True>,\n",
              " <Conv2D name=conv3_block4_1_conv, built=True>,\n",
              " <BatchNormalization name=conv3_block4_1_bn, built=True>,\n",
              " <Activation name=conv3_block4_1_relu, built=True>,\n",
              " <Conv2D name=conv3_block4_2_conv, built=True>,\n",
              " <BatchNormalization name=conv3_block4_2_bn, built=True>,\n",
              " <Activation name=conv3_block4_2_relu, built=True>,\n",
              " <Conv2D name=conv3_block4_3_conv, built=True>,\n",
              " <BatchNormalization name=conv3_block4_3_bn, built=True>,\n",
              " <Add name=conv3_block4_add, built=True>,\n",
              " <Activation name=conv3_block4_out, built=True>,\n",
              " <Conv2D name=conv4_block1_1_conv, built=True>,\n",
              " <BatchNormalization name=conv4_block1_1_bn, built=True>,\n",
              " <Activation name=conv4_block1_1_relu, built=True>,\n",
              " <Conv2D name=conv4_block1_2_conv, built=True>,\n",
              " <BatchNormalization name=conv4_block1_2_bn, built=True>,\n",
              " <Activation name=conv4_block1_2_relu, built=True>,\n",
              " <Conv2D name=conv4_block1_0_conv, built=True>,\n",
              " <Conv2D name=conv4_block1_3_conv, built=True>,\n",
              " <BatchNormalization name=conv4_block1_0_bn, built=True>,\n",
              " <BatchNormalization name=conv4_block1_3_bn, built=True>,\n",
              " <Add name=conv4_block1_add, built=True>,\n",
              " <Activation name=conv4_block1_out, built=True>,\n",
              " <Conv2D name=conv4_block2_1_conv, built=True>,\n",
              " <BatchNormalization name=conv4_block2_1_bn, built=True>,\n",
              " <Activation name=conv4_block2_1_relu, built=True>,\n",
              " <Conv2D name=conv4_block2_2_conv, built=True>,\n",
              " <BatchNormalization name=conv4_block2_2_bn, built=True>,\n",
              " <Activation name=conv4_block2_2_relu, built=True>,\n",
              " <Conv2D name=conv4_block2_3_conv, built=True>,\n",
              " <BatchNormalization name=conv4_block2_3_bn, built=True>,\n",
              " <Add name=conv4_block2_add, built=True>,\n",
              " <Activation name=conv4_block2_out, built=True>,\n",
              " <Conv2D name=conv4_block3_1_conv, built=True>,\n",
              " <BatchNormalization name=conv4_block3_1_bn, built=True>,\n",
              " <Activation name=conv4_block3_1_relu, built=True>,\n",
              " <Conv2D name=conv4_block3_2_conv, built=True>,\n",
              " <BatchNormalization name=conv4_block3_2_bn, built=True>,\n",
              " <Activation name=conv4_block3_2_relu, built=True>,\n",
              " <Conv2D name=conv4_block3_3_conv, built=True>,\n",
              " <BatchNormalization name=conv4_block3_3_bn, built=True>,\n",
              " <Add name=conv4_block3_add, built=True>,\n",
              " <Activation name=conv4_block3_out, built=True>,\n",
              " <Conv2D name=conv4_block4_1_conv, built=True>,\n",
              " <BatchNormalization name=conv4_block4_1_bn, built=True>,\n",
              " <Activation name=conv4_block4_1_relu, built=True>,\n",
              " <Conv2D name=conv4_block4_2_conv, built=True>,\n",
              " <BatchNormalization name=conv4_block4_2_bn, built=True>,\n",
              " <Activation name=conv4_block4_2_relu, built=True>,\n",
              " <Conv2D name=conv4_block4_3_conv, built=True>,\n",
              " <BatchNormalization name=conv4_block4_3_bn, built=True>,\n",
              " <Add name=conv4_block4_add, built=True>,\n",
              " <Activation name=conv4_block4_out, built=True>,\n",
              " <Conv2D name=conv4_block5_1_conv, built=True>,\n",
              " <BatchNormalization name=conv4_block5_1_bn, built=True>,\n",
              " <Activation name=conv4_block5_1_relu, built=True>,\n",
              " <Conv2D name=conv4_block5_2_conv, built=True>,\n",
              " <BatchNormalization name=conv4_block5_2_bn, built=True>,\n",
              " <Activation name=conv4_block5_2_relu, built=True>,\n",
              " <Conv2D name=conv4_block5_3_conv, built=True>,\n",
              " <BatchNormalization name=conv4_block5_3_bn, built=True>,\n",
              " <Add name=conv4_block5_add, built=True>,\n",
              " <Activation name=conv4_block5_out, built=True>,\n",
              " <Conv2D name=conv4_block6_1_conv, built=True>,\n",
              " <BatchNormalization name=conv4_block6_1_bn, built=True>,\n",
              " <Activation name=conv4_block6_1_relu, built=True>,\n",
              " <Conv2D name=conv4_block6_2_conv, built=True>,\n",
              " <BatchNormalization name=conv4_block6_2_bn, built=True>,\n",
              " <Activation name=conv4_block6_2_relu, built=True>,\n",
              " <Conv2D name=conv4_block6_3_conv, built=True>,\n",
              " <BatchNormalization name=conv4_block6_3_bn, built=True>,\n",
              " <Add name=conv4_block6_add, built=True>,\n",
              " <Activation name=conv4_block6_out, built=True>,\n",
              " <Conv2D name=conv5_block1_1_conv, built=True>,\n",
              " <BatchNormalization name=conv5_block1_1_bn, built=True>,\n",
              " <Activation name=conv5_block1_1_relu, built=True>,\n",
              " <Conv2D name=conv5_block1_2_conv, built=True>,\n",
              " <BatchNormalization name=conv5_block1_2_bn, built=True>,\n",
              " <Activation name=conv5_block1_2_relu, built=True>,\n",
              " <Conv2D name=conv5_block1_0_conv, built=True>,\n",
              " <Conv2D name=conv5_block1_3_conv, built=True>,\n",
              " <BatchNormalization name=conv5_block1_0_bn, built=True>,\n",
              " <BatchNormalization name=conv5_block1_3_bn, built=True>,\n",
              " <Add name=conv5_block1_add, built=True>,\n",
              " <Activation name=conv5_block1_out, built=True>,\n",
              " <Conv2D name=conv5_block2_1_conv, built=True>,\n",
              " <BatchNormalization name=conv5_block2_1_bn, built=True>,\n",
              " <Activation name=conv5_block2_1_relu, built=True>,\n",
              " <Conv2D name=conv5_block2_2_conv, built=True>,\n",
              " <BatchNormalization name=conv5_block2_2_bn, built=True>,\n",
              " <Activation name=conv5_block2_2_relu, built=True>,\n",
              " <Conv2D name=conv5_block2_3_conv, built=True>,\n",
              " <BatchNormalization name=conv5_block2_3_bn, built=True>,\n",
              " <Add name=conv5_block2_add, built=True>,\n",
              " <Activation name=conv5_block2_out, built=True>,\n",
              " <Conv2D name=conv5_block3_1_conv, built=True>,\n",
              " <BatchNormalization name=conv5_block3_1_bn, built=True>,\n",
              " <Activation name=conv5_block3_1_relu, built=True>,\n",
              " <Conv2D name=conv5_block3_2_conv, built=True>,\n",
              " <BatchNormalization name=conv5_block3_2_bn, built=True>,\n",
              " <Activation name=conv5_block3_2_relu, built=True>,\n",
              " <Conv2D name=conv5_block3_3_conv, built=True>,\n",
              " <BatchNormalization name=conv5_block3_3_bn, built=True>,\n",
              " <Add name=conv5_block3_add, built=True>,\n",
              " <Activation name=conv5_block3_out, built=True>]"
            ]
          },
          "metadata": {},
          "execution_count": 4
        }
      ]
    },
    {
      "cell_type": "markdown",
      "source": [
        "📚 아래의 코드 설명\n",
        "\n",
        "*   layer.trainable 은 Keras/TensorFlow에서 각 레이어가 학습 중에 가중치가 업데이트될 수 있는지 여부를 결정하는 속성\n",
        "*   trainable=True: 이 레이어는 학습 중에 가중치가 업데이트 합니다.\n",
        "\n",
        "*   trainable=False: 이 레이어는 학습 중에 가중치가 업데이트되지 않습니다. 즉, 현재 가중치가 고정된 상태로 유지 됩니다."
      ],
      "metadata": {
        "id": "1zYVP-ie50_a"
      }
    },
    {
      "cell_type": "code",
      "source": [
        "# 가중치를 고정 (이전 레이어의 학습을 멈춤)\n",
        "for layer in base_model.layers:\n",
        "    layer.trainable = False"
      ],
      "metadata": {
        "id": "Dtq6uxKT3cft"
      },
      "execution_count": 5,
      "outputs": []
    },
    {
      "cell_type": "code",
      "source": [
        "base_model.output"
      ],
      "metadata": {
        "colab": {
          "base_uri": "https://localhost:8080/"
        },
        "id": "1U99a7T-haNF",
        "outputId": "00ba95e9-7f48-4133-888f-248fa2fa7eb0"
      },
      "execution_count": 6,
      "outputs": [
        {
          "output_type": "execute_result",
          "data": {
            "text/plain": [
              "<KerasTensor shape=(None, None, None, 2048), dtype=float32, sparse=False, name=keras_tensor_174>"
            ]
          },
          "metadata": {},
          "execution_count": 6
        }
      ]
    },
    {
      "cell_type": "code",
      "source": [
        "# 새로운 레이어를 추가하여 특정 문제에 맞게 학습\n",
        "pooling_output = GlobalAveragePooling2D()(base_model.output)\n",
        "dense_output = Dense(1024, activation='relu')(pooling_output)\n",
        "prediction_output = Dense(10, activation='softmax')(dense_output)  # 10개의 클래스를 예측하는 레이어"
      ],
      "metadata": {
        "id": "DXLVKvm25bbF"
      },
      "execution_count": 7,
      "outputs": []
    },
    {
      "cell_type": "markdown",
      "source": [
        "📚 아래의 코드 설명\n",
        "\n"
      ],
      "metadata": {
        "id": "7Sn-ehtjNzJY"
      }
    },
    {
      "cell_type": "code",
      "source": [
        "# 새로운 모델 구성\n",
        "model = Model(inputs=base_model.input, outputs=prediction_output)\n",
        "\n",
        "# 모델 컴파일 (고정된 레이어는 학습되지 않음)\n",
        "model.compile(optimizer='adam', loss='categorical_crossentropy', metrics=['accuracy'])\n",
        "\n",
        "# 새로운 데이터셋으로 학습\n",
        "# train_data와 train_labels는 새로 학습할 데이터셋\n",
        "# model.fit(train_data, train_labels, epochs=10)\n"
      ],
      "metadata": {
        "id": "D3yFMVLe3goj"
      },
      "execution_count": 8,
      "outputs": []
    }
  ]
}